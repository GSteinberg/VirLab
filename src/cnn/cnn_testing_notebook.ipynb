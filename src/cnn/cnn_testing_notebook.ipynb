{
 "cells": [
  {
   "cell_type": "markdown",
   "metadata": {},
   "source": [
    "Random DNA sample from https://www.bioinformatics.org/sms2/random_dna.html\n",
    "Following tutorial on https://www.kaggle.com/thomasnelson/working-with-dna-sequence-data-for-ml/data\n",
    "Bio Python help from https://biopython.org/wiki/SeqRecord"
   ]
  },
  {
   "cell_type": "markdown",
   "metadata": {},
   "source": [
    "Qs\n",
    "One-hot vs. ordinal encoding -> no diff?\n",
    "Why are the genomes different lengths?\n",
    "# Find median length and exclude rest ? Trim sequences?\n",
    "Feature extraction? https://www.quora.com/What-is-the-common-practice-to-handle-different-lengths-of-DNA-sequence-datasets-in-machine-learning-classification-task"
   ]
  },
  {
   "cell_type": "code",
   "execution_count": null,
   "metadata": {},
   "outputs": [],
   "source": [
    "!pip3 install pandas\n",
    "!pip3 install biopython"
   ]
  },
  {
   "cell_type": "code",
   "execution_count": null,
   "metadata": {},
   "outputs": [],
   "source": [
    "# All imports\n",
    "import pandas as pd\n",
    "from Bio import SeqIO # FASTA reader\n"
   ]
  },
  {
   "cell_type": "code",
   "execution_count": null,
   "metadata": {},
   "outputs": [],
   "source": [
    "for index, seq_record in enumerate(SeqIO.parse('./test_dna.fasta', \"fasta\")):\n",
    "    print(\"index %i, ID = %s, length %i, with %i features\"\n",
    "          % (index, seq_record.id, len(seq_record.seq), len(seq_record.features)))"
   ]
  },
  {
   "cell_type": "code",
   "execution_count": null,
   "metadata": {},
   "outputs": [],
   "source": [
    "for index, seq_record in enumerate(SeqIO.parse('/Users/alevenberg/Documents/research/VirLab/genomes/Train_Culex/Japanese_encephalitis_virus.fasta', \"fasta\")):\n",
    "    print(\"index %i, ID = %s, length %i, with %i features\"\n",
    "          % (index, seq_record.id, len(seq_record.seq), len(seq_record.features)))\n",
    "   # print(seq_record)\n",
    "   # print(seq_record.format(\"fasta\"))\n",
    "    \n"
   ]
  },
  {
   "cell_type": "code",
   "execution_count": null,
   "metadata": {},
   "outputs": [],
   "source": [
    "for index, seq_record in enumerate(SeqIO.parse('/Users/alevenberg/Documents/research/VirLab/genomes/Train_Culex/west_nile_virus.fasta', \"fasta\")):\n",
    "    print(\"index %i, ID = %s, length %i, with %i features\"\n",
    "          % (index, seq_record.id, len(seq_record.seq), len(seq_record.features)))\n",
    "   # print(seq_record)"
   ]
  },
  {
   "cell_type": "code",
   "execution_count": null,
   "metadata": {},
   "outputs": [],
   "source": [
    "# function to convert a DNA sequence string to a numpy array\n",
    "# converts to lower case, changes any non 'acgt' characters to 'n'\n",
    "import numpy as np\n",
    "import re\n",
    "def string_to_array(my_string):\n",
    "    my_string = my_string.lower()\n",
    "    my_string = re.sub('[^acgt]', 'z', my_string)\n",
    "    my_array = np.array(list(my_string))\n",
    "    return my_array\n",
    "\n",
    "# create a label encoder with 'acgtn' alphabet\n",
    "from sklearn.preprocessing import LabelEncoder\n",
    "label_encoder = LabelEncoder()\n",
    "label_encoder.fit(np.array(['a','c','g','t','z']))"
   ]
  },
  {
   "cell_type": "code",
   "execution_count": null,
   "metadata": {},
   "outputs": [],
   "source": [
    "# function to one-hot encode a DNA sequence string\n",
    "# non 'acgt' bases (n) are 0000\n",
    "# returns a L x 4 numpy array\n",
    "from sklearn.preprocessing import OneHotEncoder\n",
    "def one_hot_encoder(my_array):\n",
    "    integer_encoded = label_encoder.transform(my_array)\n",
    "   # print(integer_encoded) # A -> 0, C -> 1, G -> 2, T -> 3 and N -> 4\n",
    "    onehot_encoder = OneHotEncoder(sparse=False, dtype=int,categories=[range(5)])\n",
    "    integer_encoded = integer_encoded.reshape(len(integer_encoded), 1) # Makes the one array -> 2D array of single elements\n",
    "    onehot_encoded = onehot_encoder.fit_transform(integer_encoded)\n",
    "    # print(onehot_encoded) # 0 -> 1,0,0,0,0, 1 -> 0,1,0,0,0\n",
    "   # print(onehot_encoded)\n",
    "    onehot_encoded = np.delete(onehot_encoded, -1, 1)\n",
    "    #print(onehot_encoded) # Deletes last column so those become 0,0,0,0 if there was a non ACGT character\n",
    "    return onehot_encoded\n",
    "\n",
    "test_sequence = 'AACGCGGTTNN'\n",
    "one_hot_encoder(string_to_array(test_sequence))"
   ]
  },
  {
   "cell_type": "code",
   "execution_count": null,
   "metadata": {},
   "outputs": [],
   "source": [
    "import pandas as pd\n",
    "\n",
    "\n",
    "mySeq = 'CATGGCCATCCCCCCCCGAGCGGGGGGGGGG'\n",
    "getKmers(mySeq, size=2)\n",
    "words = getKmers(mySeq, size=2)\n",
    "sentence = ' '.join(words)\n",
    "\n",
    "\n",
    "mySeq2 = 'GATGGCCATCCCCGCCCGAGCGGGGGGGG'\n",
    "mySeq3 = 'CATGGCCATCCCCGCCCGAGCGGGCGGGG'\n",
    "sentence2 = ' '.join(getKmers(mySeq2, size=2))\n",
    "sentence3 = ' '.join(getKmers(mySeq3, size=2))\n",
    "\n",
    "sentence3\n",
    "\n",
    "# Creating the Bag of Words model\n",
    "from sklearn.feature_extraction.text import CountVectorizer\n",
    "cv = CountVectorizer()\n",
    "X = cv.fit_transform([sentence, sentence2, sentence3]).toarray() # holds the kmers and their counts\n",
    "print(sentence)\n",
    "print(X)\n",
    "print(type(X))\n",
    "tokens = cv.get_feature_names()\n",
    "pd.set_option('display.max_colwidth', -1)\n",
    "pd.DataFrame(data=X, index=['Seq', 'Seq2', 'Seq3'], columns=tokens).head()"
   ]
  },
  {
   "cell_type": "code",
   "execution_count": null,
   "metadata": {},
   "outputs": [],
   "source": [
    "for index, seq_record in enumerate(SeqIO.parse('/Users/alevenberg/Documents/research/VirLab/genomes/Train_Culex/west_nile_virus.fasta', \"fasta\")):\n",
    "    print(\"index %i, ID = %s\"\n",
    "          % (index, seq_record.id))\n",
    "    print(one_hot_encoder(string_to_array(str(seq_record.seq))))"
   ]
  },
  {
   "cell_type": "code",
   "execution_count": null,
   "metadata": {},
   "outputs": [],
   "source": [
    "from sklearn.feature_extraction.text import CountVectorizer\n",
    "\n",
    "\n",
    "sequences = []\n",
    "ids = []\n",
    "\n",
    "for index, seq_record in enumerate(SeqIO.parse('/Users/alevenberg/Documents/research/VirLab/genomes/Train_Culex/west_nile_virus.fasta', \"fasta\")):\n",
    "    sequences.append(getKmersStr(str(seq_record.seq), size=6))\n",
    "    ids.append(seq_record.id)\n",
    "    \n",
    "cv = CountVectorizer()\n",
    "X = cv.fit_transform(sequences).toarray() # holds the kmers and their counts\n",
    "tokens = cv.get_feature_names()\n",
    "pd.DataFrame(data=X, index=ids, columns=tokens).head()"
   ]
  },
  {
   "cell_type": "markdown",
   "metadata": {},
   "source": [
    "Current work below"
   ]
  },
  {
   "cell_type": "code",
   "execution_count": null,
   "metadata": {},
   "outputs": [],
   "source": [
    "import pandas as pd\n",
    "from sklearn.feature_extraction.text import CountVectorizer\n",
    "from Bio import SeqIO # FASTA reader\n",
    "\n",
    "paths = [\"/Users/alevenberg/Documents/research/VirLab/genomes/Full_Aedes/Dengue_virus.fasta\", \"/Users/alevenberg/Documents/research/VirLab/genomes/Full_Aedes/Yellow_fever_virus.fasta\", \"/Users/alevenberg/Documents/research/VirLab/genomes/Full_Aedes/Zika_virus.fasta\"]\n",
    "\n",
    "KMERS =3\n",
    "\n",
    "def getKmers(sequence, size):\n",
    "    return [sequence[x:x+size].lower() for x in range(len(sequence) - size + 1)]\n",
    "\n",
    "def getKmersStr(sequence, size):\n",
    "    kmers = getKmers(sequence, size)\n",
    "    return \" \".join(kmers)\n",
    "\n",
    "# Aedes is a vector\n",
    "# Each vectors dna sample has the same # of kmers??\n",
    "cv = CountVectorizer()\n",
    "\n",
    "for path in paths:\n",
    "    sequences = []\n",
    "    ids = []\n",
    "    for index, seq_record in enumerate(SeqIO.parse(path, \"fasta\")):\n",
    "        sequences.append(getKmersStr(str(seq_record.seq), size=KMERS))\n",
    "        ids.append(seq_record.id)\n",
    "    \n",
    "    X = cv.fit_transform(sequences).toarray() # holds the kmers and their counts\n",
    "    tokens = cv.get_feature_names()\n",
    "    df = pd.DataFrame(data=X, index=ids, columns=tokens)\n",
    "    print(df.loc[:, (df != 0).any(axis=0)])\n",
    "    print(\"Finished path {}\".format(path))"
   ]
  },
  {
   "cell_type": "markdown",
   "metadata": {},
   "source": [
    "prints out kmers "
   ]
  },
  {
   "cell_type": "code",
   "execution_count": null,
   "metadata": {},
   "outputs": [],
   "source": [
    "import pandas as pd\n",
    "from sklearn.feature_extraction.text import CountVectorizer\n",
    "from Bio import SeqIO # FASTA reader\n",
    "\n",
    "path = \"/Users/alevenberg/Documents/research/VirLab/genomes/Full_Aedes/Dengue_virus.fasta\"\n",
    "\n",
    "KMERS = 3\n",
    "\n",
    "def getKmers(sequence, size):\n",
    "    return [sequence[x:x+size].lower() for x in range(len(sequence) - size + 1)]\n",
    "\n",
    "def getKmersStr(sequence, size):\n",
    "    kmers = getKmers(sequence, size)\n",
    "    return \" \".join(kmers)\n",
    "\n",
    "# Aedes is a vector\n",
    "# Each vectors dna sample has the same # of kmers??\n",
    "cv = CountVectorizer()\n",
    "\n",
    "sequences = []\n",
    "ids = []\n",
    "for index, seq_record in enumerate(SeqIO.parse(path, \"fasta\")):\n",
    "    if (\"aab\" in str(seq_record.seq)):\n",
    "        print(seq_record.id)\n",
    "    sequences.append(getKmersStr(str(seq_record.seq), size=KMERS))\n",
    "    ids.append(seq_record.id)\n",
    "\n",
    "X = cv.fit_transform(sequences).toarray() # holds the kmers and their counts\n",
    "tokens = cv.get_feature_names()\n",
    "df = pd.DataFrame(data=X, index=ids, columns=tokens)\n",
    "df = df.loc[:, (df != 0).any(axis=0)]\n",
    "\n",
    "\n",
    "print(\"Finished path {}\".format(path))"
   ]
  },
  {
   "cell_type": "code",
   "execution_count": null,
   "metadata": {},
   "outputs": [],
   "source": [
    "df = df.loc[:, (df != 0).any(axis=0)]\n",
    "print(df)\n",
    "\n",
    "\n",
    "df = df.loc[:, df.isin([' ','NULL',0]).mean() < 1]\n",
    "print (df)\n",
    "# iterating the columns \n",
    "for col in df.columns: \n",
    "    print(col)"
   ]
  },
  {
   "cell_type": "code",
   "execution_count": null,
   "metadata": {},
   "outputs": [],
   "source": [
    "def toString(List): \n",
    "    return ''.join(List) \n",
    "  \n",
    "# Function to print permutations of string \n",
    "# This function takes three parameters: \n",
    "# 1. String \n",
    "# 2. Starting index of the string \n",
    "# 3. Ending index of the string. \n",
    "def permute(a, l, r): \n",
    "    if l==r: \n",
    "        print (toString(a) )\n",
    "    else: \n",
    "        for i in range(l,r+1): \n",
    "            a[l], a[i] = a[i], a[l] \n",
    "            permute(a, l+1, r) \n",
    "            a[l], a[i] = a[i], a[l] # backtrack \n",
    "  \n",
    "# Driver program to test the above function \n",
    "string = \"acgt\"\n",
    "n = len(string) \n",
    "a = list(string) \n",
    "permute(a, 0, n-1) \n",
    "  "
   ]
  },
  {
   "cell_type": "code",
   "execution_count": null,
   "metadata": {},
   "outputs": [],
   "source": [
    "# A Python program to print all  \n",
    "# combinations of given length \n",
    "from itertools import combinations \n",
    "from itertools import permutations \n",
    "from itertools import product\n",
    "\n",
    "# Get all combinations of [1, 2, 3] \n",
    "# and length 2 \n",
    "comb = product(['a','c','g','t'],repeat=3) \n",
    "  \n",
    "cart = []\n",
    "# Print the obtained combinations \n",
    "for i in list(comb): \n",
    "    cart.append(\"\".join(i))\n",
    "    print(\"\".join(i)) "
   ]
  },
  {
   "cell_type": "code",
   "execution_count": null,
   "metadata": {},
   "outputs": [],
   "source": [
    "cols = []\n",
    "for col in df.columns: \n",
    "    print(col)\n",
    "    cols.append(col)"
   ]
  },
  {
   "cell_type": "code",
   "execution_count": null,
   "metadata": {},
   "outputs": [],
   "source": [
    "cols == cart # all possible combinations are shown which is good\n",
    "# if there was a kmer which was not found it might have accidentally been dropped earlier!"
   ]
  },
  {
   "cell_type": "code",
   "execution_count": null,
   "metadata": {},
   "outputs": [],
   "source": [
    "print (df)"
   ]
  },
  {
   "cell_type": "code",
   "execution_count": null,
   "metadata": {},
   "outputs": [],
   "source": [
    "df.value_counts().sort_index().plot.bar()\n"
   ]
  },
  {
   "cell_type": "markdown",
   "metadata": {},
   "source": [
    "***************"
   ]
  },
  {
   "cell_type": "code",
   "execution_count": 39,
   "metadata": {},
   "outputs": [],
   "source": [
    "import pandas as pd\n",
    "from sklearn.feature_extraction.text import CountVectorizer\n",
    "from Bio import SeqIO # FASTA reader\n",
    "import numpy as np\n",
    "\n",
    "path = \"/Users/alevenberg/Documents/research/VirLab/genomes/Full_Aedes/Dengue_virus.fasta\"\n",
    "\n",
    "# Get Sequences\n",
    "sequences = []\n",
    "ids = []\n",
    "for index, seq_record in enumerate(SeqIO.parse(path, \"fasta\")):\n",
    "    sequences.append(str(seq_record.seq))\n",
    "    ids.append(seq_record.id)                 "
   ]
  },
  {
   "cell_type": "code",
   "execution_count": 42,
   "metadata": {},
   "outputs": [
    {
     "name": "stdout",
     "output_type": "stream",
     "text": [
      "5446\n",
      "5446\n"
     ]
    }
   ],
   "source": [
    "sequences\n",
    "classes = np.full(shape=len(sequences),fill_value=0)\n",
    "print(len(classes))\n",
    "print(len(sequences))"
   ]
  },
  {
   "cell_type": "code",
   "execution_count": 37,
   "metadata": {},
   "outputs": [
    {
     "data": {
      "text/plain": [
       "array([[ 1,  6],\n",
       "       [ 2,  7],\n",
       "       [ 3,  8],\n",
       "       [ 4,  9],\n",
       "       [ 5, 10]])"
      ]
     },
     "execution_count": 37,
     "metadata": {},
     "output_type": "execute_result"
    }
   ],
   "source": [
    "a = np.array([1,2,3,4,5])\n",
    "b = np.array([6,7,8,9,10])\n",
    "np.array(list(zip(a,b)))\n"
   ]
  },
  {
   "cell_type": "code",
   "execution_count": 41,
   "metadata": {},
   "outputs": [
    {
     "data": {
      "text/html": [
       "<div>\n",
       "<style scoped>\n",
       "    .dataframe tbody tr th:only-of-type {\n",
       "        vertical-align: middle;\n",
       "    }\n",
       "\n",
       "    .dataframe tbody tr th {\n",
       "        vertical-align: top;\n",
       "    }\n",
       "\n",
       "    .dataframe thead th {\n",
       "        text-align: right;\n",
       "    }\n",
       "</style>\n",
       "<table border=\"1\" class=\"dataframe\">\n",
       "  <thead>\n",
       "    <tr style=\"text-align: right;\">\n",
       "      <th></th>\n",
       "      <th>sequence</th>\n",
       "      <th>class</th>\n",
       "    </tr>\n",
       "  </thead>\n",
       "  <tbody>\n",
       "    <tr>\n",
       "      <th>0</th>\n",
       "      <td>CTAACAGTTTTTTATTAGAGAGCAGATCTCTGATGAACAACCAACG...</td>\n",
       "      <td>0</td>\n",
       "    </tr>\n",
       "    <tr>\n",
       "      <th>1</th>\n",
       "      <td>CTAACAGTTTTTTATTAGAGAGCAGATCTCTGATGAACAACCAACG...</td>\n",
       "      <td>0</td>\n",
       "    </tr>\n",
       "    <tr>\n",
       "      <th>2</th>\n",
       "      <td>AGTTGTTAGTCTACGTGGACCGACAAGAACAGTTTCGAATCGGAAG...</td>\n",
       "      <td>0</td>\n",
       "    </tr>\n",
       "    <tr>\n",
       "      <th>3</th>\n",
       "      <td>AGTTGTTAGTCTACGTGGACCGACAAGAACAGTTTCGACTCGGAAG...</td>\n",
       "      <td>0</td>\n",
       "    </tr>\n",
       "    <tr>\n",
       "      <th>4</th>\n",
       "      <td>ATGAATAACCAACGAAAAAAGGCGAGAAATACGCCTTTCAATATGC...</td>\n",
       "      <td>0</td>\n",
       "    </tr>\n",
       "  </tbody>\n",
       "</table>\n",
       "</div>"
      ],
      "text/plain": [
       "                                            sequence class\n",
       "0  CTAACAGTTTTTTATTAGAGAGCAGATCTCTGATGAACAACCAACG...     0\n",
       "1  CTAACAGTTTTTTATTAGAGAGCAGATCTCTGATGAACAACCAACG...     0\n",
       "2  AGTTGTTAGTCTACGTGGACCGACAAGAACAGTTTCGAATCGGAAG...     0\n",
       "3  AGTTGTTAGTCTACGTGGACCGACAAGAACAGTTTCGACTCGGAAG...     0\n",
       "4  ATGAATAACCAACGAAAAAAGGCGAGAAATACGCCTTTCAATATGC...     0"
      ]
     },
     "execution_count": 41,
     "metadata": {},
     "output_type": "execute_result"
    }
   ],
   "source": [
    "numpy_data = np.array(list(zip(sequences,classes)))\n",
    "df_aedes = pd.DataFrame(data=numpy_data)\n",
    "df_aedes.columns = [\"sequence\",\"class\"]\n",
    "#({\"columns\":})\n",
    "df_aedes.head()"
   ]
  },
  {
   "cell_type": "code",
   "execution_count": 45,
   "metadata": {},
   "outputs": [],
   "source": [
    "import pandas as pd\n",
    "from sklearn.feature_extraction.text import CountVectorizer\n",
    "from Bio import SeqIO # FASTA reader\n",
    "import numpy as np\n",
    "\n",
    "path = \"/Users/alevenberg/Documents/research/VirLab/genomes/Full_Culex/Japanese_encephalitis_virus.fasta\"\n",
    "\n",
    "# Get Sequences\n",
    "sequences = []\n",
    "ids = []\n",
    "for index, seq_record in enumerate(SeqIO.parse(path, \"fasta\")):\n",
    "    sequences.append(str(seq_record.seq))\n",
    "    ids.append(seq_record.id)                 "
   ]
  },
  {
   "cell_type": "code",
   "execution_count": 46,
   "metadata": {},
   "outputs": [
    {
     "name": "stdout",
     "output_type": "stream",
     "text": [
      "324\n",
      "324\n"
     ]
    }
   ],
   "source": [
    "classes = np.full(shape=len(sequences),fill_value=1)\n",
    "print(len(classes))\n",
    "print(len(sequences))"
   ]
  },
  {
   "cell_type": "code",
   "execution_count": 47,
   "metadata": {},
   "outputs": [
    {
     "data": {
      "text/html": [
       "<div>\n",
       "<style scoped>\n",
       "    .dataframe tbody tr th:only-of-type {\n",
       "        vertical-align: middle;\n",
       "    }\n",
       "\n",
       "    .dataframe tbody tr th {\n",
       "        vertical-align: top;\n",
       "    }\n",
       "\n",
       "    .dataframe thead th {\n",
       "        text-align: right;\n",
       "    }\n",
       "</style>\n",
       "<table border=\"1\" class=\"dataframe\">\n",
       "  <thead>\n",
       "    <tr style=\"text-align: right;\">\n",
       "      <th></th>\n",
       "      <th>sequence</th>\n",
       "      <th>class</th>\n",
       "    </tr>\n",
       "  </thead>\n",
       "  <tbody>\n",
       "    <tr>\n",
       "      <th>0</th>\n",
       "      <td>AGAAGTTTATCTGTGTGGACTTCTTGGCTTAGTATCGTTGAGAAGA...</td>\n",
       "      <td>1</td>\n",
       "    </tr>\n",
       "    <tr>\n",
       "      <th>1</th>\n",
       "      <td>AGAAGTTTATCTGTGTGGACTTCTTGGCTTAGTATCGTTGAGAAGA...</td>\n",
       "      <td>1</td>\n",
       "    </tr>\n",
       "    <tr>\n",
       "      <th>2</th>\n",
       "      <td>AGAAGTTTATCTGTGTGAACTTCTTGGCTTAGTATCGTTGAGAAGA...</td>\n",
       "      <td>1</td>\n",
       "    </tr>\n",
       "    <tr>\n",
       "      <th>3</th>\n",
       "      <td>AGAAGTTTATCTGTGTGAACTTCTTGGCTTAGTATCGTTGAGAAGA...</td>\n",
       "      <td>1</td>\n",
       "    </tr>\n",
       "    <tr>\n",
       "      <th>4</th>\n",
       "      <td>AGAAGTTTATCTGTGTGAACTTCTTGGCTTAGTATCGTTGAGAAGA...</td>\n",
       "      <td>1</td>\n",
       "    </tr>\n",
       "  </tbody>\n",
       "</table>\n",
       "</div>"
      ],
      "text/plain": [
       "                                            sequence class\n",
       "0  AGAAGTTTATCTGTGTGGACTTCTTGGCTTAGTATCGTTGAGAAGA...     1\n",
       "1  AGAAGTTTATCTGTGTGGACTTCTTGGCTTAGTATCGTTGAGAAGA...     1\n",
       "2  AGAAGTTTATCTGTGTGAACTTCTTGGCTTAGTATCGTTGAGAAGA...     1\n",
       "3  AGAAGTTTATCTGTGTGAACTTCTTGGCTTAGTATCGTTGAGAAGA...     1\n",
       "4  AGAAGTTTATCTGTGTGAACTTCTTGGCTTAGTATCGTTGAGAAGA...     1"
      ]
     },
     "execution_count": 47,
     "metadata": {},
     "output_type": "execute_result"
    }
   ],
   "source": [
    "numpy_data = np.array(list(zip(sequences,classes)))\n",
    "df_culex = pd.DataFrame(data=numpy_data)\n",
    "df_culex.columns = [\"sequence\",\"class\"]\n",
    "#({\"columns\":})\n",
    "df_culex.head()"
   ]
  },
  {
   "cell_type": "code",
   "execution_count": 57,
   "metadata": {},
   "outputs": [],
   "source": [
    "frames = [df_aedes, df_culex]\n",
    "\n",
    "full_df = df_aedes.append(df_culex)\n"
   ]
  },
  {
   "cell_type": "code",
   "execution_count": 58,
   "metadata": {},
   "outputs": [
    {
     "data": {
      "text/plain": [
       "(5770, 2)"
      ]
     },
     "execution_count": 58,
     "metadata": {},
     "output_type": "execute_result"
    }
   ],
   "source": [
    "full_df.tail()\n",
    "full_df.shape"
   ]
  },
  {
   "cell_type": "code",
   "execution_count": 59,
   "metadata": {},
   "outputs": [
    {
     "data": {
      "text/html": [
       "<div>\n",
       "<style scoped>\n",
       "    .dataframe tbody tr th:only-of-type {\n",
       "        vertical-align: middle;\n",
       "    }\n",
       "\n",
       "    .dataframe tbody tr th {\n",
       "        vertical-align: top;\n",
       "    }\n",
       "\n",
       "    .dataframe thead th {\n",
       "        text-align: right;\n",
       "    }\n",
       "</style>\n",
       "<table border=\"1\" class=\"dataframe\">\n",
       "  <thead>\n",
       "    <tr style=\"text-align: right;\">\n",
       "      <th></th>\n",
       "      <th>sequence</th>\n",
       "      <th>class</th>\n",
       "    </tr>\n",
       "  </thead>\n",
       "  <tbody>\n",
       "    <tr>\n",
       "      <th>5441</th>\n",
       "      <td>AGTTGTTAGTCTACGTGGACCGACAAGAACAGTTTCGAATCGGAAG...</td>\n",
       "      <td>0</td>\n",
       "    </tr>\n",
       "    <tr>\n",
       "      <th>5442</th>\n",
       "      <td>AGTTGTTAGTCTACGTGGACCGACAAGAACAGTTTCGAATCGGAAG...</td>\n",
       "      <td>0</td>\n",
       "    </tr>\n",
       "    <tr>\n",
       "      <th>5443</th>\n",
       "      <td>AGTTGTTAGTCTACGTGGACCGACAAGAACAGTTTCGAATCGGAAG...</td>\n",
       "      <td>0</td>\n",
       "    </tr>\n",
       "    <tr>\n",
       "      <th>5444</th>\n",
       "      <td>AGTTGTTAGTCTACGTGGACCGACAAGAACAGTTTCGAATCGGAAG...</td>\n",
       "      <td>0</td>\n",
       "    </tr>\n",
       "    <tr>\n",
       "      <th>5445</th>\n",
       "      <td>GTGGACCGCAAAGAACAGTTTCGAATCGGAAGCTTGCTTAACGTAG...</td>\n",
       "      <td>0</td>\n",
       "    </tr>\n",
       "  </tbody>\n",
       "</table>\n",
       "</div>"
      ],
      "text/plain": [
       "                                               sequence class\n",
       "5441  AGTTGTTAGTCTACGTGGACCGACAAGAACAGTTTCGAATCGGAAG...     0\n",
       "5442  AGTTGTTAGTCTACGTGGACCGACAAGAACAGTTTCGAATCGGAAG...     0\n",
       "5443  AGTTGTTAGTCTACGTGGACCGACAAGAACAGTTTCGAATCGGAAG...     0\n",
       "5444  AGTTGTTAGTCTACGTGGACCGACAAGAACAGTTTCGAATCGGAAG...     0\n",
       "5445  GTGGACCGCAAAGAACAGTTTCGAATCGGAAGCTTGCTTAACGTAG...     0"
      ]
     },
     "execution_count": 59,
     "metadata": {},
     "output_type": "execute_result"
    }
   ],
   "source": [
    "df_aedes.tail()\n"
   ]
  },
  {
   "cell_type": "code",
   "execution_count": 1,
   "metadata": {},
   "outputs": [
    {
     "ename": "NameError",
     "evalue": "name 'df_aedes' is not defined",
     "output_type": "error",
     "traceback": [
      "\u001b[0;31m---------------------------------------------------------------------------\u001b[0m",
      "\u001b[0;31mNameError\u001b[0m                                 Traceback (most recent call last)",
      "\u001b[0;32m<ipython-input-1-5cf920b04a6d>\u001b[0m in \u001b[0;36m<module>\u001b[0;34m\u001b[0m\n\u001b[0;32m----> 1\u001b[0;31m \u001b[0mdf_aedes\u001b[0m\u001b[0;34m.\u001b[0m\u001b[0mshape\u001b[0m\u001b[0;34m\u001b[0m\u001b[0;34m\u001b[0m\u001b[0m\n\u001b[0m\u001b[1;32m      2\u001b[0m \u001b[0mdf_aedes\u001b[0m\u001b[0;34m.\u001b[0m\u001b[0mnew_shape\u001b[0m\u001b[0;34m(\u001b[0m\u001b[0;36m324\u001b[0m\u001b[0;34m,\u001b[0m\u001b[0;36m2\u001b[0m\u001b[0;34m)\u001b[0m\u001b[0;34m\u001b[0m\u001b[0;34m\u001b[0m\u001b[0m\n\u001b[1;32m      3\u001b[0m \u001b[0mdf_aedes\u001b[0m\u001b[0;34m.\u001b[0m\u001b[0mshape\u001b[0m\u001b[0;34m\u001b[0m\u001b[0;34m\u001b[0m\u001b[0m\n",
      "\u001b[0;31mNameError\u001b[0m: name 'df_aedes' is not defined"
     ]
    }
   ],
   "source": [
    "df_aedes.shape\n",
    "df_aedes.new_shape(324,2)\n",
    "df_aedes.shape"
   ]
  },
  {
   "cell_type": "code",
   "execution_count": 60,
   "metadata": {},
   "outputs": [
    {
     "data": {
      "text/plain": [
       "(324, 2)"
      ]
     },
     "execution_count": 60,
     "metadata": {},
     "output_type": "execute_result"
    }
   ],
   "source": [
    "df_culex.shape"
   ]
  },
  {
   "cell_type": "code",
   "execution_count": null,
   "metadata": {},
   "outputs": [],
   "source": [
    "                 \n",
    "\n",
    "KMERS = 3\n",
    "\n",
    "def getKmers(sequence, size):\n",
    "    return [sequence[x:x+size].lower() for x in range(len(sequence) - size + 1)]\n",
    "\n",
    "def getKmersStr(sequence, size):\n",
    "    kmers = getKmers(sequence, size)\n",
    "    return \" \".join(kmers)\n",
    "\n",
    "# Aedes is a vector\n",
    "# Each vectors dna sample has the same # of kmers??\n",
    "cv = CountVectorizer()\n",
    "\n",
    "\n",
    "\n",
    "X = cv.fit_transform(sequences).toarray() # holds the kmers and their counts\n",
    "tokens = cv.get_feature_names()\n",
    "df = pd.DataFrame(data=X, index=ids, columns=tokens)\n",
    "df = df.loc[:, (df != 0).any(axis=0)]\n",
    "\n",
    "\n",
    "print(\"Finished path {}\".format(path))"
   ]
  }
 ],
 "metadata": {
  "kernelspec": {
   "display_name": "Python 3",
   "language": "python",
   "name": "python3"
  },
  "language_info": {
   "codemirror_mode": {
    "name": "ipython",
    "version": 3
   },
   "file_extension": ".py",
   "mimetype": "text/x-python",
   "name": "python",
   "nbconvert_exporter": "python",
   "pygments_lexer": "ipython3",
   "version": "3.6.2"
  }
 },
 "nbformat": 4,
 "nbformat_minor": 2
}
