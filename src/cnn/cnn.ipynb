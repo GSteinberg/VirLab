{
 "cells": [
  {
   "cell_type": "markdown",
   "metadata": {},
   "source": [
    "Open Questions\n",
    "\n",
    "- https://en.wikipedia.org/wiki/FASTA_format#Sequence_representation, non-actg rep?\n",
    "- dealing w varying lengths - fundamental cnn problem\n",
    "- trimming sequences, must find minimum among all, should they be recentered?\n",
    "    - padding instead of truncate \n",
    "- variation of sequences - not all dengue? maintaining an equal split?"
   ]
  },
  {
   "cell_type": "code",
   "execution_count": 5,
   "metadata": {},
   "outputs": [],
   "source": [
    "!source ../../env/bin/activate"
   ]
  },
  {
   "cell_type": "code",
   "execution_count": 6,
   "metadata": {},
   "outputs": [
    {
     "ename": "ModuleNotFoundError",
     "evalue": "No module named 'pandas'",
     "output_type": "error",
     "traceback": [
      "\u001b[0;31m---------------------------------------------------------------------------\u001b[0m",
      "\u001b[0;31mModuleNotFoundError\u001b[0m                       Traceback (most recent call last)",
      "\u001b[0;32m<ipython-input-6-5cd5029c48f4>\u001b[0m in \u001b[0;36m<module>\u001b[0;34m\u001b[0m\n\u001b[0;32m----> 1\u001b[0;31m \u001b[0;32mimport\u001b[0m \u001b[0mpandas\u001b[0m \u001b[0;32mas\u001b[0m \u001b[0mpd\u001b[0m\u001b[0;34m\u001b[0m\u001b[0m\n\u001b[0m\u001b[1;32m      2\u001b[0m \u001b[0;32mfrom\u001b[0m \u001b[0mBio\u001b[0m \u001b[0;32mimport\u001b[0m \u001b[0mSeqIO\u001b[0m \u001b[0;31m# FASTA reader\u001b[0m\u001b[0;34m\u001b[0m\u001b[0m\n\u001b[1;32m      3\u001b[0m \u001b[0;32mimport\u001b[0m \u001b[0mnumpy\u001b[0m \u001b[0;32mas\u001b[0m \u001b[0mnp\u001b[0m\u001b[0;34m\u001b[0m\u001b[0m\n\u001b[1;32m      4\u001b[0m \u001b[0;34m\u001b[0m\u001b[0m\n\u001b[1;32m      5\u001b[0m \u001b[0;32mdef\u001b[0m \u001b[0mfind_min_length\u001b[0m\u001b[0;34m(\u001b[0m\u001b[0mfasta_sequences\u001b[0m\u001b[0;34m)\u001b[0m\u001b[0;34m:\u001b[0m\u001b[0;34m\u001b[0m\u001b[0m\n",
      "\u001b[0;31mModuleNotFoundError\u001b[0m: No module named 'pandas'"
     ]
    }
   ],
   "source": [
    "import pandas as pd\n",
    "from Bio import SeqIO # FASTA reader\n",
    "import numpy as np \n",
    "\n",
    "def find_min_length(fasta_sequences):\n",
    "    seq_lengths = []\n",
    "\n",
    "    for fasta in fasta_sequences:\n",
    "        name, sequence = fasta.id, str(fasta.seq)\n",
    "        seq_lengths.append(len(sequence))\n",
    "\n",
    "    return min(seq_lengths)"
   ]
  },
  {
   "cell_type": "code",
   "execution_count": 15,
   "metadata": {},
   "outputs": [],
   "source": [
    "def one_hot_encode(seq):\n",
    "    # https://en.wikipedia.org/wiki/FASTA_format#Sequence_representation\n",
    "    ltrdict = {'a':[1,0,0,0],'c':[0,1,0,0],'g':[0,0,1,0],'t':[0,0,0,1], 'b':[0,0,0,0], 'v':[0,0,0,0], 'n':[0,0,0,0], 'd':[0,0,0,0], 'm':[0,0,0,0], 'h':[0,0,0,0], 'w':[0,0,0,0], 'y':[0,0,0,0], 's':[0,0,0,0], 'r':[0,0,0,0], 'k':[0,0,0,0]}\n",
    "    return [ltrdict[x] for x in seq]\n",
    "\n",
    "def get_data(fasta_sequences):\n",
    "    min_len = 9083 # in the dengue_fasta\n",
    "    sequences = []\n",
    "    for i, fasta in enumerate(fasta_sequences):\n",
    "        if i == 300:\n",
    "            break\n",
    "        name, sequence = fasta.id, str(fasta.seq)\n",
    "        one_hot_sequence = one_hot_encode(sequence.lower())\n",
    "        if (len(one_hot_sequence) >= min_len):\n",
    "            one_hot_sequence = one_hot_sequence[0: (min_len-1)]\n",
    "        sequences.append(one_hot_sequence)\n",
    "    return np.asarray(sequences)"
   ]
  },
  {
   "cell_type": "code",
   "execution_count": 16,
   "metadata": {},
   "outputs": [
    {
     "name": "stdout",
     "output_type": "stream",
     "text": [
      "(300, 9082, 4)\n",
      "(300,)\n"
     ]
    }
   ],
   "source": [
    "file = \"/Users/alevenberg/research/VirLab/src/cnn/genomes/aedes/dengue.fasta\"\n",
    "filetype = \"fasta\"\n",
    "aedes_fasta_sequences = list(SeqIO.parse(file, filetype))\n",
    "\n",
    "aedes_data = get_data(aedes_fasta_sequences)\n",
    "print(aedes_data.shape)\n",
    "aedes_labels = np.ones(300)\n",
    "print(aedes_labels.shape)"
   ]
  },
  {
   "cell_type": "code",
   "execution_count": 17,
   "metadata": {},
   "outputs": [
    {
     "name": "stdout",
     "output_type": "stream",
     "text": [
      "(300, 9082, 4)\n",
      "(300,)\n"
     ]
    }
   ],
   "source": [
    "file = \"/Users/alevenberg/research/VirLab/src/cnn/genomes/culex/japanese-encephalitis.fasta\"\n",
    "filetype = \"fasta\"\n",
    "culex_fasta_sequences = list(SeqIO.parse(file, filetype))\n",
    "\n",
    "min_len = find_min_length(culex_fasta_sequences)\n",
    "culex_data = get_data(culex_fasta_sequences)\n",
    "print(culex_data.shape)\n",
    "culex_labels = np.zeros(300)\n",
    "print(culex_labels.shape)"
   ]
  },
  {
   "cell_type": "code",
   "execution_count": 18,
   "metadata": {},
   "outputs": [],
   "source": [
    "# combine data\n",
    "\n",
    "data = np.concatenate((aedes_data, culex_data))\n",
    "labels = np.concatenate((aedes_labels, culex_labels))"
   ]
  },
  {
   "cell_type": "code",
   "execution_count": null,
   "metadata": {},
   "outputs": [],
   "source": [
    "from torch.utils.data import Dataset, DataLoader\n",
    "\n",
    "class VirLabDataset(Dataset):\n",
    "    \"\"\" VirLabDataset dataset.\"\"\"\n",
    "\n",
    "    # Initialize your data, download, etc.\n",
    "    def __init__(self, data, labels):\n",
    "        self.len = data.shape[0]\n",
    "        self.x_data = data\n",
    "        self.y_data = labels\n",
    "\n",
    "    def __getitem__(self, index):\n",
    "        return self.x_data[index], self.y_data[index]\n",
    "\n",
    "    def __len__(self):\n",
    "        return self.len\n",
    "    \n",
    "dataset = VirLabDataset(data, labels)\n",
    "train_loader = DataLoader(dataset=dataset,\n",
    "                          batch_size=30,\n",
    "                          shuffle=True,\n",
    "                          num_workers=2)"
   ]
  },
  {
   "cell_type": "code",
   "execution_count": null,
   "metadata": {},
   "outputs": [],
   "source": [
    "# To view data \n",
    "# batch = next(iter(train_loader)) \n",
    "# seqs, labels = batch\n",
    "# print(labels[0])"
   ]
  },
  {
   "cell_type": "code",
   "execution_count": 28,
   "metadata": {},
   "outputs": [
    {
     "ename": "NameError",
     "evalue": "name 'Variable' is not defined",
     "output_type": "error",
     "traceback": [
      "\u001b[0;31m---------------------------------------------------------------------------\u001b[0m",
      "\u001b[0;31mNameError\u001b[0m                                 Traceback (most recent call last)",
      "\u001b[0;32m<ipython-input-28-7a975d33ab7f>\u001b[0m in \u001b[0;36m<module>\u001b[0;34m\u001b[0m\n\u001b[1;32m     40\u001b[0m \u001b[0;34m\u001b[0m\u001b[0m\n\u001b[1;32m     41\u001b[0m \u001b[0;32mfor\u001b[0m \u001b[0mepoch\u001b[0m \u001b[0;32min\u001b[0m \u001b[0mrange\u001b[0m\u001b[0;34m(\u001b[0m\u001b[0;36m1\u001b[0m\u001b[0;34m,\u001b[0m \u001b[0;36m10\u001b[0m\u001b[0;34m)\u001b[0m\u001b[0;34m:\u001b[0m\u001b[0;34m\u001b[0m\u001b[0;34m\u001b[0m\u001b[0m\n\u001b[0;32m---> 42\u001b[0;31m     \u001b[0mtrain\u001b[0m\u001b[0;34m(\u001b[0m\u001b[0mepoch\u001b[0m\u001b[0;34m)\u001b[0m\u001b[0;34m\u001b[0m\u001b[0;34m\u001b[0m\u001b[0m\n\u001b[0m",
      "\u001b[0;32m<ipython-input-28-7a975d33ab7f>\u001b[0m in \u001b[0;36mtrain\u001b[0;34m(epoch)\u001b[0m\n\u001b[1;32m     27\u001b[0m     \u001b[0mmodel\u001b[0m\u001b[0;34m.\u001b[0m\u001b[0mtrain\u001b[0m\u001b[0;34m(\u001b[0m\u001b[0;34m)\u001b[0m\u001b[0;34m\u001b[0m\u001b[0;34m\u001b[0m\u001b[0m\n\u001b[1;32m     28\u001b[0m     \u001b[0;32mfor\u001b[0m \u001b[0mbatch_idx\u001b[0m\u001b[0;34m,\u001b[0m \u001b[0;34m(\u001b[0m\u001b[0mdata\u001b[0m\u001b[0;34m,\u001b[0m \u001b[0mtarget\u001b[0m\u001b[0;34m)\u001b[0m \u001b[0;32min\u001b[0m \u001b[0menumerate\u001b[0m\u001b[0;34m(\u001b[0m\u001b[0mtrain_loader\u001b[0m\u001b[0;34m)\u001b[0m\u001b[0;34m:\u001b[0m\u001b[0;34m\u001b[0m\u001b[0;34m\u001b[0m\u001b[0m\n\u001b[0;32m---> 29\u001b[0;31m         \u001b[0mdata\u001b[0m\u001b[0;34m,\u001b[0m \u001b[0mtarget\u001b[0m \u001b[0;34m=\u001b[0m \u001b[0mVariable\u001b[0m\u001b[0;34m(\u001b[0m\u001b[0mdata\u001b[0m\u001b[0;34m)\u001b[0m\u001b[0;34m,\u001b[0m \u001b[0mVariable\u001b[0m\u001b[0;34m(\u001b[0m\u001b[0mtarget\u001b[0m\u001b[0;34m)\u001b[0m\u001b[0;34m\u001b[0m\u001b[0;34m\u001b[0m\u001b[0m\n\u001b[0m\u001b[1;32m     30\u001b[0m         \u001b[0moptimizer\u001b[0m\u001b[0;34m.\u001b[0m\u001b[0mzero_grad\u001b[0m\u001b[0;34m(\u001b[0m\u001b[0;34m)\u001b[0m\u001b[0;34m\u001b[0m\u001b[0;34m\u001b[0m\u001b[0m\n\u001b[1;32m     31\u001b[0m         \u001b[0moutput\u001b[0m \u001b[0;34m=\u001b[0m \u001b[0mmodel\u001b[0m\u001b[0;34m(\u001b[0m\u001b[0mdata\u001b[0m\u001b[0;34m)\u001b[0m\u001b[0;34m\u001b[0m\u001b[0;34m\u001b[0m\u001b[0m\n",
      "\u001b[0;31mNameError\u001b[0m: name 'Variable' is not defined"
     ]
    }
   ],
   "source": [
    "import torch.nn as nn\n",
    "import torch.optim as optim\n",
    "\n",
    "class Net(nn.Module):\n",
    "\n",
    "    def __init__(self):\n",
    "        super(Net, self).__init__()\n",
    "        self.conv1 = nn.Conv2d(1, 10, kernel_size=5)\n",
    "        self.conv2 = nn.Conv2d(10, 20, kernel_size=5)\n",
    "        self.mp = nn.MaxPool2d(2)\n",
    "        self.fc = nn.Linear(320, 10)\n",
    "\n",
    "    def forward(self, x):\n",
    "        in_size = x.size(0)\n",
    "        x = F.relu(self.mp(self.conv1(x)))\n",
    "        x = F.relu(self.mp(self.conv2(x)))\n",
    "        x = x.view(in_size, -1)  # flatten the tensor\n",
    "        x = self.fc(x)\n",
    "        return F.log_softmax(x)\n",
    "\n",
    "model = Net()\n",
    "\n",
    "optimizer = optim.SGD(model.parameters(), lr=0.01, momentum=0.5)\n",
    "\n",
    "\n",
    "def train(epoch):\n",
    "    model.train()\n",
    "    for batch_idx, (data, target) in enumerate(train_loader):\n",
    "        data, target = Variable(data), Variable(target)\n",
    "        optimizer.zero_grad()\n",
    "        output = model(data)\n",
    "        loss = F.nll_loss(output, target)\n",
    "        loss.backward()\n",
    "        optimizer.step()\n",
    "        if batch_idx % 10 == 0:\n",
    "            print('Train Epoch: {} [{}/{} ({:.0f}%)]\\tLoss: {:.6f}'.format(\n",
    "                epoch, batch_idx * len(data), len(train_loader.dataset),\n",
    "                100. * batch_idx / len(train_loader), loss.item()))\n",
    "\n",
    "            \n",
    "for epoch in range(1, 10):\n",
    "    train(epoch)\n"
   ]
  },
  {
   "cell_type": "code",
   "execution_count": 112,
   "metadata": {},
   "outputs": [
    {
     "name": "stdout",
     "output_type": "stream",
     "text": [
      "(366, 9083, 4)\n"
     ]
    }
   ],
   "source": [
    "# To delete rows\n",
    "aedes_data = np.delete(aedes_data, range(366, 6403) ,axis = 0)\n",
    "print(aedes_data.shape)"
   ]
  },
  {
   "cell_type": "code",
   "execution_count": 9,
   "metadata": {},
   "outputs": [
    {
     "data": {
      "text/plain": [
       "(6403,)"
      ]
     },
     "execution_count": 9,
     "metadata": {},
     "output_type": "execute_result"
    }
   ],
   "source": [
    "np.array(aedes_sequences).shape"
   ]
  },
  {
   "cell_type": "code",
   "execution_count": 11,
   "metadata": {},
   "outputs": [
    {
     "name": "stdout",
     "output_type": "stream",
     "text": [
      "(300, 9083, 4)\n"
     ]
    }
   ],
   "source": [
    "file = \"/Users/alevenberg/research/VirLab/src/cnn/genomes/aedes/dengue.fasta\"\n",
    "filetype = \"fasta\"\n",
    "aedes_fasta_sequences = list(SeqIO.parse(file, filetype))\n",
    "\n",
    "min_len = find_min_length(fasta_sequences)\n",
    "aedes_data = get_data(fasta_sequences, min_len)\n",
    "print(aedes_data.shape)"
   ]
  },
  {
   "cell_type": "code",
   "execution_count": 87,
   "metadata": {},
   "outputs": [
    {
     "name": "stdout",
     "output_type": "stream",
     "text": [
      "[[[1, 0, 0, 0], [0, 1, 0, 0]], [[1, 0, 0, 0], [0, 1, 0, 0]]]\n",
      "<class 'list'>\n"
     ]
    },
    {
     "data": {
      "text/plain": [
       "(2, 2, 4)"
      ]
     },
     "execution_count": 87,
     "metadata": {},
     "output_type": "execute_result"
    }
   ],
   "source": [
    "b = []\n",
    "a = [[1, 0, 0, 0], [0, 1, 0, 0]]\n",
    "b.append(a)\n",
    "b.append(a)\n",
    "print(b)\n",
    "print(type(a))\n",
    "\n",
    "np.asarray(b).shape"
   ]
  },
  {
   "cell_type": "code",
   "execution_count": 10,
   "metadata": {},
   "outputs": [
    {
     "data": {
      "text/plain": [
       "(366,)"
      ]
     },
     "execution_count": 10,
     "metadata": {},
     "output_type": "execute_result"
    }
   ],
   "source": [
    "np.array(culex_sequences).shape"
   ]
  },
  {
   "cell_type": "code",
   "execution_count": 4,
   "metadata": {},
   "outputs": [
    {
     "name": "stdout",
     "output_type": "stream",
     "text": [
      "[[0 0 0 0]\n",
      " [0 0 0 0]\n",
      " [0 0 0 0]\n",
      " ...\n",
      " [0 0 0 0]\n",
      " [0 0 0 0]\n",
      " [0 0 0 0]]\n"
     ]
    }
   ],
   "source": [
    "file = \"/Users/alevenberg/research/VirLab/src/cnn/genomes/aedes/dengue.fasta\"\n",
    "filetype = \"fasta\"\n",
    "fasta_sequences = list(SeqIO.parse(file, filetype))\n",
    "\n",
    "aedes_sequences = []\n",
    "for fasta in fasta_sequences:\n",
    "    name, sequence = fasta.id, str(fasta.seq)\n",
    "    one_hot_sequence = one_hot_encode(sequence.lower())\n",
    "    aedes_sequences.append(np.array(one_hot_sequence))\n",
    "\n",
    "print(aedes_sequences[0])"
   ]
  },
  {
   "cell_type": "code",
   "execution_count": null,
   "metadata": {},
   "outputs": [],
   "source": [
    "from sklearn.preprocessing import OneHotEncoder\n",
    "def one_hot_encoder(my_array):\n",
    "    integer_encoded = label_encoder.transform(my_array)\n",
    "    onehot_encoder = OneHotEncoder(sparse=False, dtype=int, n_values=5)\n",
    "    integer_encoded = integer_encoded.reshape(len(integer_encoded), 1)\n",
    "    onehot_encoded = onehot_encoder.fit_transform(integer_encoded)\n",
    "    onehot_encoded = np.delete(onehot_encoded, -1, 1)\n",
    "    return onehot_encoded"
   ]
  },
  {
   "cell_type": "code",
   "execution_count": 3,
   "metadata": {},
   "outputs": [],
   "source": [
    "import pandas as pd\n",
    "# from sklearn.feature_extraction.text import CountVectorizer\n",
    "# from Bio import SeqIO # FASTA reader\n",
    "import numpy as np \n",
    "\n",
    "file = \"/Users/alevenberg/research/VirLab/results/4-4mers in Test_Aedes and Test_Culex.csv\"\n",
    "\n",
    "data = pd.read_csv(file) "
   ]
  },
  {
   "cell_type": "code",
   "execution_count": 66,
   "metadata": {},
   "outputs": [],
   "source": [
    "import pandas as pd\n",
    "from Bio import SeqIO\n",
    "import numpy as np\n",
    "import time \n",
    "\n",
    "def one_hot_encode(seq):\n",
    "    # https://en.wikipedia.org/wiki/FASTA_format#Sequence_representation\n",
    "    ltrdict = {'a':[1,0,0,0],'c':[0,1,0,0],'g':[0,0,1,0],'t':[0,0,0,1], 'b':[0,0,0,0], 'v':[0,0,0,0], 'n':[0,0,0,0], 'd':[0,0,0,0], 'm':[0,0,0,0], 'h':[0,0,0,0], 'w':[0,0,0,0], 'y':[0,0,0,0], 's':[0,0,0,0], 'r':[0,0,0,0], 'k':[0,0,0,0]}\n",
    "    return [ltrdict[x] for x in seq]\n",
    "\n",
    "filetype = \"fasta\""
   ]
  },
  {
   "cell_type": "code",
   "execution_count": 103,
   "metadata": {},
   "outputs": [
    {
     "name": "stdout",
     "output_type": "stream",
     "text": [
      "(366, 10295, 4)\n"
     ]
    }
   ],
   "source": [
    "import statistics \n",
    "\n",
    "file = \"/Users/alevenberg/research/VirLab/src/cnn/genomes/culex/japanese-encephalitis.fasta\"\n",
    "# fasta_sequences = list(SeqIO.parse(file, filetype))\n",
    "\n",
    "seq_lengths = []\n",
    "# MAX_LENGTH = 10296\n",
    "MAX_LENGTH = 10296\n",
    "BASES = 4\n",
    "\n",
    "# culex_sequences = np.array([]).reshape(0, MAX_LENGTH, BASES)\n",
    "culex_sequences = []\n",
    "for fasta in fasta_sequences:\n",
    "    name, sequence = fasta.id, str(fasta.seq)\n",
    "    one_hot_sequence = one_hot_encode(sequence.lower())\n",
    "    seq_lengths.append(len(sequence))\n",
    "    if (len(one_hot_sequence) >= MAX_LENGTH):\n",
    "        one_hot_sequence = one_hot_sequence[0: (MAX_LENGTH-1)]\n",
    "#     print(np.array(one_hot_sequence).shape)\n",
    "#     np.stack((culex_sequences, (np.array(one_hot_sequence))))\n",
    "#     np.concatenate((culex_sequences,(np.array(one_hot_sequence))),axis=0)\n",
    "    culex_sequences.append(one_hot_sequence)\n",
    "\n",
    "# print(\"Minimum length: \", min(seq_lengths))\n",
    "# print(\"Maximum length: \", max(seq_lengths))\n",
    "# print(\"Avg length: \", statistics.mean(seq_lengths))\n",
    "\n",
    "b = np.asarray(culex_sequences)\n",
    "# print(b[0:2])\n",
    "print(b.shape)\n",
    "\n",
    "# b = b.reshape(len(b), len(b[0]), len(b[0][0])) \n",
    "# print(b.shape)\n",
    "# M = np.stack(culex_sequences)\n",
    "# M.shape \n",
    "# print()\n",
    "# == (10,5,4,2,5,1,2)# b = np.array(culex_sequences)\n",
    "# print\n",
    "# b = b.reshape(len(b), len(b[0]), len(b[0][0])) "
   ]
  },
  {
   "cell_type": "code",
   "execution_count": 2,
   "metadata": {},
   "outputs": [
    {
     "data": {
      "text/html": [
       "<div>\n",
       "<style scoped>\n",
       "    .dataframe tbody tr th:only-of-type {\n",
       "        vertical-align: middle;\n",
       "    }\n",
       "\n",
       "    .dataframe tbody tr th {\n",
       "        vertical-align: top;\n",
       "    }\n",
       "\n",
       "    .dataframe thead th {\n",
       "        text-align: right;\n",
       "    }\n",
       "</style>\n",
       "<table border=\"1\" class=\"dataframe\">\n",
       "  <thead>\n",
       "    <tr style=\"text-align: right;\">\n",
       "      <th></th>\n",
       "      <th>VECTORS</th>\n",
       "      <th>Test_Culex</th>\n",
       "      <th>Test_Culex.1</th>\n",
       "      <th>Test_Aedes</th>\n",
       "      <th>Test_Culex.2</th>\n",
       "      <th>Test_Culex.3</th>\n",
       "      <th>Test_Culex.4</th>\n",
       "      <th>Test_Culex.5</th>\n",
       "      <th>Test_Aedes.1</th>\n",
       "      <th>Test_Aedes.2</th>\n",
       "      <th>...</th>\n",
       "      <th>Test_Aedes.206</th>\n",
       "      <th>Test_Culex.191</th>\n",
       "      <th>Test_Culex.192</th>\n",
       "      <th>Test_Aedes.207</th>\n",
       "      <th>Test_Culex.193</th>\n",
       "      <th>Test_Aedes.208</th>\n",
       "      <th>Test_Culex.194</th>\n",
       "      <th>Test_Culex.195</th>\n",
       "      <th>Test_Aedes.209</th>\n",
       "      <th>Test_Aedes.210</th>\n",
       "    </tr>\n",
       "  </thead>\n",
       "  <tbody>\n",
       "    <tr>\n",
       "      <td>0</td>\n",
       "      <td>AAAA</td>\n",
       "      <td>865.682522</td>\n",
       "      <td>511.247444</td>\n",
       "      <td>699.936369</td>\n",
       "      <td>1017.811705</td>\n",
       "      <td>668.002672</td>\n",
       "      <td>668.002672</td>\n",
       "      <td>0.000000</td>\n",
       "      <td>492.610837</td>\n",
       "      <td>1252.609603</td>\n",
       "      <td>...</td>\n",
       "      <td>778.354337</td>\n",
       "      <td>1017.811705</td>\n",
       "      <td>668.002672</td>\n",
       "      <td>1237.113402</td>\n",
       "      <td>1017.811705</td>\n",
       "      <td>1258.232576</td>\n",
       "      <td>865.761414</td>\n",
       "      <td>1333.333333</td>\n",
       "      <td>3030.30303</td>\n",
       "      <td>0.0</td>\n",
       "    </tr>\n",
       "    <tr>\n",
       "      <td>1</td>\n",
       "      <td>AAAC</td>\n",
       "      <td>492.072171</td>\n",
       "      <td>613.496933</td>\n",
       "      <td>445.414053</td>\n",
       "      <td>763.358779</td>\n",
       "      <td>668.002672</td>\n",
       "      <td>668.002672</td>\n",
       "      <td>609.756098</td>\n",
       "      <td>985.221675</td>\n",
       "      <td>695.894224</td>\n",
       "      <td>...</td>\n",
       "      <td>416.975537</td>\n",
       "      <td>763.358779</td>\n",
       "      <td>668.002672</td>\n",
       "      <td>687.285223</td>\n",
       "      <td>763.358779</td>\n",
       "      <td>658.606114</td>\n",
       "      <td>492.117014</td>\n",
       "      <td>222.222222</td>\n",
       "      <td>1010.10101</td>\n",
       "      <td>0.0</td>\n",
       "    </tr>\n",
       "    <tr>\n",
       "      <td>2</td>\n",
       "      <td>AAAG</td>\n",
       "      <td>783.670494</td>\n",
       "      <td>613.496933</td>\n",
       "      <td>699.936369</td>\n",
       "      <td>763.358779</td>\n",
       "      <td>467.601870</td>\n",
       "      <td>467.601870</td>\n",
       "      <td>0.000000</td>\n",
       "      <td>492.610837</td>\n",
       "      <td>974.251914</td>\n",
       "      <td>...</td>\n",
       "      <td>787.620460</td>\n",
       "      <td>763.358779</td>\n",
       "      <td>467.601870</td>\n",
       "      <td>962.199313</td>\n",
       "      <td>763.358779</td>\n",
       "      <td>1091.123562</td>\n",
       "      <td>783.741912</td>\n",
       "      <td>888.888889</td>\n",
       "      <td>4040.40404</td>\n",
       "      <td>0.0</td>\n",
       "    </tr>\n",
       "    <tr>\n",
       "      <td>3</td>\n",
       "      <td>AAAT</td>\n",
       "      <td>400.947695</td>\n",
       "      <td>204.498978</td>\n",
       "      <td>390.873557</td>\n",
       "      <td>254.452926</td>\n",
       "      <td>534.402138</td>\n",
       "      <td>534.402138</td>\n",
       "      <td>304.878049</td>\n",
       "      <td>985.221675</td>\n",
       "      <td>1113.430759</td>\n",
       "      <td>...</td>\n",
       "      <td>250.185322</td>\n",
       "      <td>254.452926</td>\n",
       "      <td>534.402138</td>\n",
       "      <td>1099.656357</td>\n",
       "      <td>254.452926</td>\n",
       "      <td>619.286346</td>\n",
       "      <td>410.097512</td>\n",
       "      <td>1111.111111</td>\n",
       "      <td>0.00000</td>\n",
       "      <td>0.0</td>\n",
       "    </tr>\n",
       "    <tr>\n",
       "      <td>4</td>\n",
       "      <td>AACA</td>\n",
       "      <td>601.421542</td>\n",
       "      <td>408.997955</td>\n",
       "      <td>599.945460</td>\n",
       "      <td>1017.811705</td>\n",
       "      <td>668.002672</td>\n",
       "      <td>668.002672</td>\n",
       "      <td>304.878049</td>\n",
       "      <td>492.610837</td>\n",
       "      <td>1461.377871</td>\n",
       "      <td>...</td>\n",
       "      <td>583.765752</td>\n",
       "      <td>1017.811705</td>\n",
       "      <td>601.202405</td>\n",
       "      <td>1443.298969</td>\n",
       "      <td>1017.811705</td>\n",
       "      <td>992.824142</td>\n",
       "      <td>601.476351</td>\n",
       "      <td>444.444444</td>\n",
       "      <td>2020.20202</td>\n",
       "      <td>0.0</td>\n",
       "    </tr>\n",
       "  </tbody>\n",
       "</table>\n",
       "<p>5 rows × 408 columns</p>\n",
       "</div>"
      ],
      "text/plain": [
       "  VECTORS  Test_Culex  Test_Culex.1  Test_Aedes  Test_Culex.2  Test_Culex.3  \\\n",
       "0    AAAA  865.682522    511.247444  699.936369   1017.811705    668.002672   \n",
       "1    AAAC  492.072171    613.496933  445.414053    763.358779    668.002672   \n",
       "2    AAAG  783.670494    613.496933  699.936369    763.358779    467.601870   \n",
       "3    AAAT  400.947695    204.498978  390.873557    254.452926    534.402138   \n",
       "4    AACA  601.421542    408.997955  599.945460   1017.811705    668.002672   \n",
       "\n",
       "   Test_Culex.4  Test_Culex.5  Test_Aedes.1  Test_Aedes.2  ...  \\\n",
       "0    668.002672      0.000000    492.610837   1252.609603  ...   \n",
       "1    668.002672    609.756098    985.221675    695.894224  ...   \n",
       "2    467.601870      0.000000    492.610837    974.251914  ...   \n",
       "3    534.402138    304.878049    985.221675   1113.430759  ...   \n",
       "4    668.002672    304.878049    492.610837   1461.377871  ...   \n",
       "\n",
       "   Test_Aedes.206  Test_Culex.191  Test_Culex.192  Test_Aedes.207  \\\n",
       "0      778.354337     1017.811705      668.002672     1237.113402   \n",
       "1      416.975537      763.358779      668.002672      687.285223   \n",
       "2      787.620460      763.358779      467.601870      962.199313   \n",
       "3      250.185322      254.452926      534.402138     1099.656357   \n",
       "4      583.765752     1017.811705      601.202405     1443.298969   \n",
       "\n",
       "   Test_Culex.193  Test_Aedes.208  Test_Culex.194  Test_Culex.195  \\\n",
       "0     1017.811705     1258.232576      865.761414     1333.333333   \n",
       "1      763.358779      658.606114      492.117014      222.222222   \n",
       "2      763.358779     1091.123562      783.741912      888.888889   \n",
       "3      254.452926      619.286346      410.097512     1111.111111   \n",
       "4     1017.811705      992.824142      601.476351      444.444444   \n",
       "\n",
       "   Test_Aedes.209  Test_Aedes.210  \n",
       "0      3030.30303             0.0  \n",
       "1      1010.10101             0.0  \n",
       "2      4040.40404             0.0  \n",
       "3         0.00000             0.0  \n",
       "4      2020.20202             0.0  \n",
       "\n",
       "[5 rows x 408 columns]"
      ]
     },
     "execution_count": 2,
     "metadata": {},
     "output_type": "execute_result"
    }
   ],
   "source": [
    "vectors = data[\"VECTORS\"] # 256 kmers\n",
    "data.head()"
   ]
  },
  {
   "cell_type": "code",
   "execution_count": 3,
   "metadata": {},
   "outputs": [
    {
     "name": "stdout",
     "output_type": "stream",
     "text": [
      "(196, 256)\n"
     ]
    }
   ],
   "source": [
    "culex = []\n",
    "first_column = data[\"Test_Culex\"].to_numpy()\n",
    "culex.append(first_column)\n",
    "for i in range(1,196):\n",
    "    column = data[\"Test_Culex.\" + str(i)].to_numpy()\n",
    "    culex.append(column)\n",
    "\n",
    "culex = np.array(culex)\n",
    "print(culex.shape) "
   ]
  },
  {
   "cell_type": "code",
   "execution_count": 4,
   "metadata": {},
   "outputs": [
    {
     "name": "stdout",
     "output_type": "stream",
     "text": [
      "(211, 256)\n"
     ]
    }
   ],
   "source": [
    "aedes = []\n",
    "first_column = data[\"Test_Aedes\"].to_numpy()\n",
    "aedes.append(first_column)\n",
    "for i in range(1,211):\n",
    "    column = data[\"Test_Aedes.\" + str(i)].to_numpy()\n",
    "    aedes.append(column)\n",
    "\n",
    "aedes = np.array(aedes)\n",
    "print(aedes.shape) "
   ]
  },
  {
   "cell_type": "markdown",
   "metadata": {},
   "source": [
    "- Note: some are really sparse and idk why? (lots of 0's)\n",
    "- Also some of them have different # of sequences \n",
    "- Originally aedes has 211 seq and culex has 196\n",
    "    - Gonna trim to 196"
   ]
  },
  {
   "cell_type": "code",
   "execution_count": 5,
   "metadata": {},
   "outputs": [
    {
     "data": {
      "text/plain": [
       "(196, 256)"
      ]
     },
     "execution_count": 5,
     "metadata": {},
     "output_type": "execute_result"
    }
   ],
   "source": [
    "# Trim aedes \n",
    "aedes = aedes[0:196]\n",
    "aedes.shape"
   ]
  },
  {
   "cell_type": "code",
   "execution_count": 6,
   "metadata": {},
   "outputs": [
    {
     "data": {
      "text/plain": [
       "(196,)"
      ]
     },
     "execution_count": 6,
     "metadata": {},
     "output_type": "execute_result"
    }
   ],
   "source": [
    "# Make labels\n",
    "aedes_labels = np.zeros(aedes.shape[0]) \n",
    "culex_labels = np.ones(culex.shape[0]) \n",
    "\n",
    "aedes_labels.shape # Shape: (196,)\n",
    "culex_labels.shape # Shape: (196,)"
   ]
  },
  {
   "cell_type": "code",
   "execution_count": 7,
   "metadata": {},
   "outputs": [],
   "source": [
    "#IMPORT DATASET\n",
    "training_file = \"/Users/alevenberg/research/VirLab/results/training_sig_k_mers.csv\"\n",
    "testing_file = \"/Users/alevenberg/research/VirLab/results/testing_sig_k_mers.csv\"\n",
    "\n",
    "train_dataset = pd.read_csv(training_file)\n",
    "test_dataset = pd.read_csv(testing_file)"
   ]
  },
  {
   "cell_type": "code",
   "execution_count": 8,
   "metadata": {},
   "outputs": [
    {
     "data": {
      "text/html": [
       "<div>\n",
       "<style scoped>\n",
       "    .dataframe tbody tr th:only-of-type {\n",
       "        vertical-align: middle;\n",
       "    }\n",
       "\n",
       "    .dataframe tbody tr th {\n",
       "        vertical-align: top;\n",
       "    }\n",
       "\n",
       "    .dataframe thead th {\n",
       "        text-align: right;\n",
       "    }\n",
       "</style>\n",
       "<table border=\"1\" class=\"dataframe\">\n",
       "  <thead>\n",
       "    <tr style=\"text-align: right;\">\n",
       "      <th></th>\n",
       "      <th>TTTT</th>\n",
       "      <th>TTTG</th>\n",
       "      <th>TTTA</th>\n",
       "      <th>TTTC</th>\n",
       "      <th>TTGT</th>\n",
       "      <th>TTGG</th>\n",
       "      <th>TTGC</th>\n",
       "      <th>TTAC</th>\n",
       "      <th>TTCT</th>\n",
       "      <th>TTGA</th>\n",
       "      <th>...</th>\n",
       "      <th>TGTT</th>\n",
       "      <th>TGTG</th>\n",
       "      <th>TGTC</th>\n",
       "      <th>TCTT</th>\n",
       "      <th>TGGC</th>\n",
       "      <th>TCCG</th>\n",
       "      <th>TGGG</th>\n",
       "      <th>TCTA</th>\n",
       "      <th>TGTA</th>\n",
       "      <th>Class</th>\n",
       "    </tr>\n",
       "  </thead>\n",
       "  <tbody>\n",
       "    <tr>\n",
       "      <td>0</td>\n",
       "      <td>337.160561</td>\n",
       "      <td>437.397485</td>\n",
       "      <td>173.136504</td>\n",
       "      <td>264.260980</td>\n",
       "      <td>264.260980</td>\n",
       "      <td>738.108256</td>\n",
       "      <td>291.598323</td>\n",
       "      <td>227.811190</td>\n",
       "      <td>273.373428</td>\n",
       "      <td>419.172590</td>\n",
       "      <td>...</td>\n",
       "      <td>291.598323</td>\n",
       "      <td>592.309094</td>\n",
       "      <td>318.935666</td>\n",
       "      <td>309.823219</td>\n",
       "      <td>765.445599</td>\n",
       "      <td>182.248952</td>\n",
       "      <td>719.883361</td>\n",
       "      <td>145.799162</td>\n",
       "      <td>154.911609</td>\n",
       "      <td>1</td>\n",
       "    </tr>\n",
       "    <tr>\n",
       "      <td>1</td>\n",
       "      <td>306.748466</td>\n",
       "      <td>511.247444</td>\n",
       "      <td>0.000000</td>\n",
       "      <td>511.247444</td>\n",
       "      <td>306.748466</td>\n",
       "      <td>1022.494888</td>\n",
       "      <td>204.498978</td>\n",
       "      <td>102.249489</td>\n",
       "      <td>511.247444</td>\n",
       "      <td>613.496933</td>\n",
       "      <td>...</td>\n",
       "      <td>408.997955</td>\n",
       "      <td>715.746421</td>\n",
       "      <td>306.748466</td>\n",
       "      <td>204.498978</td>\n",
       "      <td>1022.494888</td>\n",
       "      <td>0.000000</td>\n",
       "      <td>715.746421</td>\n",
       "      <td>0.000000</td>\n",
       "      <td>204.498978</td>\n",
       "      <td>1</td>\n",
       "    </tr>\n",
       "    <tr>\n",
       "      <td>2</td>\n",
       "      <td>254.522316</td>\n",
       "      <td>527.224798</td>\n",
       "      <td>90.900827</td>\n",
       "      <td>327.242978</td>\n",
       "      <td>436.323971</td>\n",
       "      <td>809.017362</td>\n",
       "      <td>336.333061</td>\n",
       "      <td>163.621489</td>\n",
       "      <td>445.414053</td>\n",
       "      <td>663.576039</td>\n",
       "      <td>...</td>\n",
       "      <td>418.143805</td>\n",
       "      <td>709.026452</td>\n",
       "      <td>499.954550</td>\n",
       "      <td>454.504136</td>\n",
       "      <td>854.467776</td>\n",
       "      <td>181.801654</td>\n",
       "      <td>763.566948</td>\n",
       "      <td>145.441324</td>\n",
       "      <td>181.801654</td>\n",
       "      <td>0</td>\n",
       "    </tr>\n",
       "    <tr>\n",
       "      <td>3</td>\n",
       "      <td>254.452926</td>\n",
       "      <td>254.452926</td>\n",
       "      <td>0.000000</td>\n",
       "      <td>254.452926</td>\n",
       "      <td>254.452926</td>\n",
       "      <td>763.358779</td>\n",
       "      <td>254.452926</td>\n",
       "      <td>254.452926</td>\n",
       "      <td>254.452926</td>\n",
       "      <td>508.905852</td>\n",
       "      <td>...</td>\n",
       "      <td>0.000000</td>\n",
       "      <td>508.905852</td>\n",
       "      <td>254.452926</td>\n",
       "      <td>508.905852</td>\n",
       "      <td>254.452926</td>\n",
       "      <td>0.000000</td>\n",
       "      <td>1017.811705</td>\n",
       "      <td>0.000000</td>\n",
       "      <td>254.452926</td>\n",
       "      <td>1</td>\n",
       "    </tr>\n",
       "    <tr>\n",
       "      <td>4</td>\n",
       "      <td>467.601870</td>\n",
       "      <td>467.601870</td>\n",
       "      <td>400.801603</td>\n",
       "      <td>334.001336</td>\n",
       "      <td>267.201069</td>\n",
       "      <td>868.403474</td>\n",
       "      <td>66.800267</td>\n",
       "      <td>334.001336</td>\n",
       "      <td>534.402138</td>\n",
       "      <td>534.402138</td>\n",
       "      <td>...</td>\n",
       "      <td>334.001336</td>\n",
       "      <td>467.601870</td>\n",
       "      <td>467.601870</td>\n",
       "      <td>534.402138</td>\n",
       "      <td>668.002672</td>\n",
       "      <td>133.600534</td>\n",
       "      <td>868.403474</td>\n",
       "      <td>133.600534</td>\n",
       "      <td>267.201069</td>\n",
       "      <td>1</td>\n",
       "    </tr>\n",
       "  </tbody>\n",
       "</table>\n",
       "<p>5 rows × 26 columns</p>\n",
       "</div>"
      ],
      "text/plain": [
       "         TTTT        TTTG        TTTA        TTTC        TTGT         TTGG  \\\n",
       "0  337.160561  437.397485  173.136504  264.260980  264.260980   738.108256   \n",
       "1  306.748466  511.247444    0.000000  511.247444  306.748466  1022.494888   \n",
       "2  254.522316  527.224798   90.900827  327.242978  436.323971   809.017362   \n",
       "3  254.452926  254.452926    0.000000  254.452926  254.452926   763.358779   \n",
       "4  467.601870  467.601870  400.801603  334.001336  267.201069   868.403474   \n",
       "\n",
       "         TTGC        TTAC        TTCT        TTGA  ...        TGTT  \\\n",
       "0  291.598323  227.811190  273.373428  419.172590  ...  291.598323   \n",
       "1  204.498978  102.249489  511.247444  613.496933  ...  408.997955   \n",
       "2  336.333061  163.621489  445.414053  663.576039  ...  418.143805   \n",
       "3  254.452926  254.452926  254.452926  508.905852  ...    0.000000   \n",
       "4   66.800267  334.001336  534.402138  534.402138  ...  334.001336   \n",
       "\n",
       "         TGTG        TGTC        TCTT         TGGC        TCCG         TGGG  \\\n",
       "0  592.309094  318.935666  309.823219   765.445599  182.248952   719.883361   \n",
       "1  715.746421  306.748466  204.498978  1022.494888    0.000000   715.746421   \n",
       "2  709.026452  499.954550  454.504136   854.467776  181.801654   763.566948   \n",
       "3  508.905852  254.452926  508.905852   254.452926    0.000000  1017.811705   \n",
       "4  467.601870  467.601870  534.402138   668.002672  133.600534   868.403474   \n",
       "\n",
       "         TCTA        TGTA  Class  \n",
       "0  145.799162  154.911609      1  \n",
       "1    0.000000  204.498978      1  \n",
       "2  145.441324  181.801654      0  \n",
       "3    0.000000  254.452926      1  \n",
       "4  133.600534  267.201069      1  \n",
       "\n",
       "[5 rows x 26 columns]"
      ]
     },
     "execution_count": 8,
     "metadata": {},
     "output_type": "execute_result"
    }
   ],
   "source": [
    "train_dataset.head()"
   ]
  },
  {
   "cell_type": "code",
   "execution_count": 9,
   "metadata": {},
   "outputs": [
    {
     "data": {
      "text/html": [
       "<div>\n",
       "<style scoped>\n",
       "    .dataframe tbody tr th:only-of-type {\n",
       "        vertical-align: middle;\n",
       "    }\n",
       "\n",
       "    .dataframe tbody tr th {\n",
       "        vertical-align: top;\n",
       "    }\n",
       "\n",
       "    .dataframe thead th {\n",
       "        text-align: right;\n",
       "    }\n",
       "</style>\n",
       "<table border=\"1\" class=\"dataframe\">\n",
       "  <thead>\n",
       "    <tr style=\"text-align: right;\">\n",
       "      <th></th>\n",
       "      <th>TTTT</th>\n",
       "      <th>TTTG</th>\n",
       "      <th>TTTA</th>\n",
       "      <th>TTTC</th>\n",
       "      <th>TTGT</th>\n",
       "      <th>TTGG</th>\n",
       "      <th>TTGC</th>\n",
       "      <th>TTAC</th>\n",
       "      <th>TTCT</th>\n",
       "      <th>TTGA</th>\n",
       "      <th>...</th>\n",
       "      <th>TGTT</th>\n",
       "      <th>TGTG</th>\n",
       "      <th>TGTC</th>\n",
       "      <th>TCTT</th>\n",
       "      <th>TGGC</th>\n",
       "      <th>TCCG</th>\n",
       "      <th>TGGG</th>\n",
       "      <th>TCTA</th>\n",
       "      <th>TGTA</th>\n",
       "      <th>Class</th>\n",
       "    </tr>\n",
       "  </thead>\n",
       "  <tbody>\n",
       "    <tr>\n",
       "      <td>0</td>\n",
       "      <td>3738.317757</td>\n",
       "      <td>0.000000</td>\n",
       "      <td>0.000000</td>\n",
       "      <td>2803.738318</td>\n",
       "      <td>0.000000</td>\n",
       "      <td>0.000000</td>\n",
       "      <td>0.000000</td>\n",
       "      <td>0.0</td>\n",
       "      <td>934.579439</td>\n",
       "      <td>0.000000</td>\n",
       "      <td>...</td>\n",
       "      <td>0.000000</td>\n",
       "      <td>0.000000</td>\n",
       "      <td>0.000000</td>\n",
       "      <td>2803.738318</td>\n",
       "      <td>934.579439</td>\n",
       "      <td>0.0</td>\n",
       "      <td>0.000000</td>\n",
       "      <td>0.0</td>\n",
       "      <td>0.000000</td>\n",
       "      <td>0</td>\n",
       "    </tr>\n",
       "    <tr>\n",
       "      <td>1</td>\n",
       "      <td>934.579439</td>\n",
       "      <td>934.579439</td>\n",
       "      <td>0.000000</td>\n",
       "      <td>0.000000</td>\n",
       "      <td>1869.158879</td>\n",
       "      <td>934.579439</td>\n",
       "      <td>0.000000</td>\n",
       "      <td>0.0</td>\n",
       "      <td>0.000000</td>\n",
       "      <td>934.579439</td>\n",
       "      <td>...</td>\n",
       "      <td>934.579439</td>\n",
       "      <td>934.579439</td>\n",
       "      <td>0.000000</td>\n",
       "      <td>0.000000</td>\n",
       "      <td>934.579439</td>\n",
       "      <td>0.0</td>\n",
       "      <td>934.579439</td>\n",
       "      <td>0.0</td>\n",
       "      <td>934.579439</td>\n",
       "      <td>0</td>\n",
       "    </tr>\n",
       "    <tr>\n",
       "      <td>2</td>\n",
       "      <td>0.000000</td>\n",
       "      <td>0.000000</td>\n",
       "      <td>0.000000</td>\n",
       "      <td>0.000000</td>\n",
       "      <td>934.579439</td>\n",
       "      <td>0.000000</td>\n",
       "      <td>934.579439</td>\n",
       "      <td>0.0</td>\n",
       "      <td>0.000000</td>\n",
       "      <td>934.579439</td>\n",
       "      <td>...</td>\n",
       "      <td>0.000000</td>\n",
       "      <td>0.000000</td>\n",
       "      <td>1869.158879</td>\n",
       "      <td>0.000000</td>\n",
       "      <td>1869.158879</td>\n",
       "      <td>0.0</td>\n",
       "      <td>934.579439</td>\n",
       "      <td>0.0</td>\n",
       "      <td>0.000000</td>\n",
       "      <td>0</td>\n",
       "    </tr>\n",
       "    <tr>\n",
       "      <td>3</td>\n",
       "      <td>0.000000</td>\n",
       "      <td>0.000000</td>\n",
       "      <td>0.000000</td>\n",
       "      <td>0.000000</td>\n",
       "      <td>0.000000</td>\n",
       "      <td>934.579439</td>\n",
       "      <td>0.000000</td>\n",
       "      <td>0.0</td>\n",
       "      <td>0.000000</td>\n",
       "      <td>934.579439</td>\n",
       "      <td>...</td>\n",
       "      <td>0.000000</td>\n",
       "      <td>0.000000</td>\n",
       "      <td>934.579439</td>\n",
       "      <td>0.000000</td>\n",
       "      <td>934.579439</td>\n",
       "      <td>0.0</td>\n",
       "      <td>1869.158879</td>\n",
       "      <td>0.0</td>\n",
       "      <td>0.000000</td>\n",
       "      <td>0</td>\n",
       "    </tr>\n",
       "    <tr>\n",
       "      <td>4</td>\n",
       "      <td>0.000000</td>\n",
       "      <td>0.000000</td>\n",
       "      <td>934.579439</td>\n",
       "      <td>0.000000</td>\n",
       "      <td>0.000000</td>\n",
       "      <td>0.000000</td>\n",
       "      <td>0.000000</td>\n",
       "      <td>0.0</td>\n",
       "      <td>934.579439</td>\n",
       "      <td>0.000000</td>\n",
       "      <td>...</td>\n",
       "      <td>0.000000</td>\n",
       "      <td>0.000000</td>\n",
       "      <td>934.579439</td>\n",
       "      <td>934.579439</td>\n",
       "      <td>0.000000</td>\n",
       "      <td>0.0</td>\n",
       "      <td>934.579439</td>\n",
       "      <td>0.0</td>\n",
       "      <td>0.000000</td>\n",
       "      <td>0</td>\n",
       "    </tr>\n",
       "  </tbody>\n",
       "</table>\n",
       "<p>5 rows × 26 columns</p>\n",
       "</div>"
      ],
      "text/plain": [
       "          TTTT        TTTG        TTTA         TTTC         TTGT        TTGG  \\\n",
       "0  3738.317757    0.000000    0.000000  2803.738318     0.000000    0.000000   \n",
       "1   934.579439  934.579439    0.000000     0.000000  1869.158879  934.579439   \n",
       "2     0.000000    0.000000    0.000000     0.000000   934.579439    0.000000   \n",
       "3     0.000000    0.000000    0.000000     0.000000     0.000000  934.579439   \n",
       "4     0.000000    0.000000  934.579439     0.000000     0.000000    0.000000   \n",
       "\n",
       "         TTGC  TTAC        TTCT        TTGA  ...        TGTT        TGTG  \\\n",
       "0    0.000000   0.0  934.579439    0.000000  ...    0.000000    0.000000   \n",
       "1    0.000000   0.0    0.000000  934.579439  ...  934.579439  934.579439   \n",
       "2  934.579439   0.0    0.000000  934.579439  ...    0.000000    0.000000   \n",
       "3    0.000000   0.0    0.000000  934.579439  ...    0.000000    0.000000   \n",
       "4    0.000000   0.0  934.579439    0.000000  ...    0.000000    0.000000   \n",
       "\n",
       "          TGTC         TCTT         TGGC  TCCG         TGGG  TCTA        TGTA  \\\n",
       "0     0.000000  2803.738318   934.579439   0.0     0.000000   0.0    0.000000   \n",
       "1     0.000000     0.000000   934.579439   0.0   934.579439   0.0  934.579439   \n",
       "2  1869.158879     0.000000  1869.158879   0.0   934.579439   0.0    0.000000   \n",
       "3   934.579439     0.000000   934.579439   0.0  1869.158879   0.0    0.000000   \n",
       "4   934.579439   934.579439     0.000000   0.0   934.579439   0.0    0.000000   \n",
       "\n",
       "   Class  \n",
       "0      0  \n",
       "1      0  \n",
       "2      0  \n",
       "3      0  \n",
       "4      0  \n",
       "\n",
       "[5 rows x 26 columns]"
      ]
     },
     "execution_count": 9,
     "metadata": {},
     "output_type": "execute_result"
    }
   ],
   "source": [
    "test_dataset.head()"
   ]
  },
  {
   "cell_type": "code",
   "execution_count": 10,
   "metadata": {},
   "outputs": [
    {
     "data": {
      "text/plain": [
       "(407, 26)"
      ]
     },
     "execution_count": 10,
     "metadata": {},
     "output_type": "execute_result"
    }
   ],
   "source": [
    "test_dataset.shape # train_dataset.shape # (407, 26)\n",
    "train_dataset.shape # (407, 26)"
   ]
  },
  {
   "cell_type": "code",
   "execution_count": 66,
   "metadata": {},
   "outputs": [],
   "source": [
    "# y = labels\n",
    "x_train = train_dataset.drop('Class', axis=1)\n",
    "y_train = train_dataset['Class'] \n",
    "x_test = test_dataset.drop('Class', axis=1)\n",
    "y_test = test_dataset['Class'] "
   ]
  },
  {
   "cell_type": "code",
   "execution_count": null,
   "metadata": {},
   "outputs": [],
   "source": [
    "# set parameters:\n",
    "max_features = 5000\n",
    "maxlen = 32\n",
    "batch_size = 32\n",
    "embedding_dims = 50\n",
    "filters = 250\n",
    "kernel_size = 3\n",
    "hidden_dims = 250\n",
    "epochs = 2\n",
    "num_classes =2"
   ]
  },
  {
   "cell_type": "code",
   "execution_count": 20,
   "metadata": {},
   "outputs": [
    {
     "name": "stdout",
     "output_type": "stream",
     "text": [
      "Collecting tensorflow\n",
      "  Using cached tensorflow-2.1.0-cp37-cp37m-macosx_10_11_x86_64.whl (120.8 MB)\n",
      "Requirement already satisfied: wheel>=0.26; python_version >= \"3\" in /opt/anaconda3/envs/virlab/lib/python3.7/site-packages (from tensorflow) (0.33.6)\n",
      "Collecting google-pasta>=0.1.6\n",
      "  Using cached google_pasta-0.1.8-py3-none-any.whl (57 kB)\n",
      "Collecting tensorflow-estimator<2.2.0,>=2.1.0rc0\n",
      "  Using cached tensorflow_estimator-2.1.0-py2.py3-none-any.whl (448 kB)\n",
      "Collecting protobuf>=3.8.0\n",
      "  Using cached protobuf-3.11.2-cp37-cp37m-macosx_10_9_x86_64.whl (1.3 MB)\n",
      "Requirement already satisfied: six>=1.12.0 in /opt/anaconda3/envs/virlab/lib/python3.7/site-packages (from tensorflow) (1.13.0)\n",
      "Requirement already satisfied: numpy<2.0,>=1.16.0 in /opt/anaconda3/envs/virlab/lib/python3.7/site-packages (from tensorflow) (1.17.4)\n",
      "Collecting opt-einsum>=2.3.2\n",
      "  Using cached opt_einsum-3.1.0.tar.gz (69 kB)\n",
      "Collecting scipy==1.4.1; python_version >= \"3\"\n",
      "  Using cached scipy-1.4.1-cp37-cp37m-macosx_10_6_intel.whl (28.4 MB)\n",
      "Processing /Users/alevenberg/Library/Caches/pip/wheels/d7/de/2e/efa132238792efb6459a96e85916ef8597fcb3d2ae51590dfd/wrapt-1.11.2-cp37-cp37m-macosx_10_12_x86_64.whl\n",
      "Collecting absl-py>=0.7.0\n",
      "  Using cached absl-py-0.9.0.tar.gz (104 kB)\n",
      "Requirement already satisfied: keras-preprocessing>=1.1.0 in /opt/anaconda3/envs/virlab/lib/python3.7/site-packages (from tensorflow) (1.1.0)\n",
      "Collecting tensorboard<2.2.0,>=2.1.0\n",
      "  Using cached tensorboard-2.1.0-py3-none-any.whl (3.8 MB)\n",
      "Requirement already satisfied: keras-applications>=1.0.8 in /opt/anaconda3/envs/virlab/lib/python3.7/site-packages (from tensorflow) (1.0.8)\n",
      "Collecting grpcio>=1.8.6\n",
      "  Downloading grpcio-1.26.0-cp37-cp37m-macosx_10_9_x86_64.whl (2.3 MB)\n",
      "\u001b[K     |████████████████████████████████| 2.3 MB 2.9 MB/s eta 0:00:01\n",
      "\u001b[?25hCollecting gast==0.2.2\n",
      "  Using cached gast-0.2.2.tar.gz (10 kB)\n",
      "Collecting termcolor>=1.1.0\n",
      "  Using cached termcolor-1.1.0.tar.gz (3.9 kB)\n",
      "Collecting astor>=0.6.0\n",
      "  Using cached astor-0.8.1-py2.py3-none-any.whl (27 kB)\n",
      "Requirement already satisfied: setuptools in /opt/anaconda3/envs/virlab/lib/python3.7/site-packages (from protobuf>=3.8.0->tensorflow) (42.0.2.post20191203)\n",
      "Collecting werkzeug>=0.11.15\n",
      "  Using cached Werkzeug-0.16.0-py2.py3-none-any.whl (327 kB)\n",
      "Collecting google-auth<2,>=1.6.3\n",
      "  Downloading google_auth-1.11.0-py2.py3-none-any.whl (76 kB)\n",
      "\u001b[K     |████████████████████████████████| 76 kB 5.5 MB/s eta 0:00:011\n",
      "\u001b[?25hCollecting requests<3,>=2.21.0\n",
      "  Using cached requests-2.22.0-py2.py3-none-any.whl (57 kB)\n",
      "Collecting google-auth-oauthlib<0.5,>=0.4.1\n",
      "  Using cached google_auth_oauthlib-0.4.1-py2.py3-none-any.whl (18 kB)\n",
      "Collecting markdown>=2.6.8\n",
      "  Using cached Markdown-3.1.1-py2.py3-none-any.whl (87 kB)\n",
      "Requirement already satisfied: h5py in /opt/anaconda3/envs/virlab/lib/python3.7/site-packages (from keras-applications>=1.0.8->tensorflow) (2.10.0)\n",
      "Collecting cachetools<5.0,>=2.0.0\n",
      "  Using cached cachetools-4.0.0-py3-none-any.whl (10 kB)\n",
      "Collecting rsa<4.1,>=3.1.4\n",
      "  Using cached rsa-4.0-py2.py3-none-any.whl (38 kB)\n",
      "Collecting pyasn1-modules>=0.2.1\n",
      "  Using cached pyasn1_modules-0.2.8-py2.py3-none-any.whl (155 kB)\n",
      "Requirement already satisfied: certifi>=2017.4.17 in /opt/anaconda3/envs/virlab/lib/python3.7/site-packages (from requests<3,>=2.21.0->tensorboard<2.2.0,>=2.1.0->tensorflow) (2019.11.28)\n",
      "Collecting urllib3!=1.25.0,!=1.25.1,<1.26,>=1.21.1\n",
      "  Downloading urllib3-1.25.8-py2.py3-none-any.whl (125 kB)\n",
      "\u001b[K     |████████████████████████████████| 125 kB 9.1 MB/s eta 0:00:01\n",
      "\u001b[?25hCollecting idna<2.9,>=2.5\n",
      "  Using cached idna-2.8-py2.py3-none-any.whl (58 kB)\n",
      "Collecting chardet<3.1.0,>=3.0.2\n",
      "  Using cached chardet-3.0.4-py2.py3-none-any.whl (133 kB)\n",
      "Collecting requests-oauthlib>=0.7.0\n",
      "  Using cached requests_oauthlib-1.3.0-py2.py3-none-any.whl (23 kB)\n",
      "Collecting pyasn1>=0.1.3\n",
      "  Using cached pyasn1-0.4.8-py2.py3-none-any.whl (77 kB)\n",
      "Collecting oauthlib>=3.0.0\n",
      "  Using cached oauthlib-3.1.0-py2.py3-none-any.whl (147 kB)\n",
      "Building wheels for collected packages: opt-einsum, absl-py, gast, termcolor\n",
      "  Building wheel for opt-einsum (setup.py) ... \u001b[?25ldone\n",
      "\u001b[?25h  Created wheel for opt-einsum: filename=opt_einsum-3.1.0-py3-none-any.whl size=61681 sha256=5a9b2b0ba87034706b40084f17ffab9d2832dddd493e5c6a386afa7039b86023\n",
      "  Stored in directory: /Users/alevenberg/Library/Caches/pip/wheels/21/e3/31/0d3919995e859eff01713d381aac3b6b43c69915a2942e5c65\n",
      "  Building wheel for absl-py (setup.py) ... \u001b[?25ldone\n",
      "\u001b[?25h  Created wheel for absl-py: filename=absl_py-0.9.0-py3-none-any.whl size=121931 sha256=49b2394a6aee9efa4e2bcb15fe219b72a4aa486ab29aa2c7ee4bd2739c8525bc\n",
      "  Stored in directory: /Users/alevenberg/Library/Caches/pip/wheels/cc/af/1a/498a24d0730ef484019e007bb9e8cef3ac00311a672c049a3e\n",
      "  Building wheel for gast (setup.py) ... \u001b[?25ldone\n",
      "\u001b[?25h  Created wheel for gast: filename=gast-0.2.2-py3-none-any.whl size=7539 sha256=603bbb2e4ab96d157549105682a86c896ee45be8595652c388e4342fa6f6956d\n",
      "  Stored in directory: /Users/alevenberg/Library/Caches/pip/wheels/21/7f/02/420f32a803f7d0967b48dd823da3f558c5166991bfd204eef3\n",
      "  Building wheel for termcolor (setup.py) ... \u001b[?25ldone\n",
      "\u001b[?25h  Created wheel for termcolor: filename=termcolor-1.1.0-py3-none-any.whl size=4830 sha256=a9cd4986ec37d0bb0449b0d0db41a94bb4d617f57cfffb8790ec64baefce48e9\n",
      "  Stored in directory: /Users/alevenberg/Library/Caches/pip/wheels/3f/e3/ec/8a8336ff196023622fbcb36de0c5a5c218cbb24111d1d4c7f2\n",
      "Successfully built opt-einsum absl-py gast termcolor\n",
      "Installing collected packages: google-pasta, tensorflow-estimator, protobuf, opt-einsum, scipy, wrapt, absl-py, werkzeug, cachetools, pyasn1, rsa, pyasn1-modules, google-auth, urllib3, idna, chardet, requests, oauthlib, requests-oauthlib, google-auth-oauthlib, markdown, grpcio, tensorboard, gast, termcolor, astor, tensorflow\n",
      "  Attempting uninstall: scipy\n",
      "    Found existing installation: scipy 1.3.1\n",
      "    Uninstalling scipy-1.3.1:\n",
      "      Successfully uninstalled scipy-1.3.1\n",
      "Successfully installed absl-py-0.9.0 astor-0.8.1 cachetools-4.0.0 chardet-3.0.4 gast-0.2.2 google-auth-1.11.0 google-auth-oauthlib-0.4.1 google-pasta-0.1.8 grpcio-1.26.0 idna-2.8 markdown-3.1.1 oauthlib-3.1.0 opt-einsum-3.1.0 protobuf-3.11.2 pyasn1-0.4.8 pyasn1-modules-0.2.8 requests-2.22.0 requests-oauthlib-1.3.0 rsa-4.0 scipy-1.4.1 tensorboard-2.1.0 tensorflow-2.1.0 tensorflow-estimator-2.1.0 termcolor-1.1.0 urllib3-1.25.8 werkzeug-0.16.0 wrapt-1.11.2\n"
     ]
    }
   ],
   "source": [
    "!pip3 install tensorflow\n"
   ]
  },
  {
   "cell_type": "code",
   "execution_count": 13,
   "metadata": {},
   "outputs": [
    {
     "data": {
      "text/plain": [
       "(407, 25)"
      ]
     },
     "execution_count": 13,
     "metadata": {},
     "output_type": "execute_result"
    }
   ],
   "source": [
    "x_train.shape"
   ]
  },
  {
   "cell_type": "code",
   "execution_count": 72,
   "metadata": {},
   "outputs": [],
   "source": [
    "x_train = np.asarray(x_train).reshape(407, 25, 1)\n",
    "y_train = np.asarray(y_train)\n",
    "x_test = np.asarray(x_test).reshape(302094, 25, 1)\n",
    "y_test = np.asarray(y_test)"
   ]
  },
  {
   "cell_type": "code",
   "execution_count": 59,
   "metadata": {},
   "outputs": [
    {
     "data": {
      "text/plain": [
       "array([[[337.16056133],\n",
       "        [437.39748496],\n",
       "        [173.13650447],\n",
       "        [264.2609805 ],\n",
       "        [264.2609805 ],\n",
       "        [738.10825588],\n",
       "        [291.59832331],\n",
       "        [227.81119009],\n",
       "        [273.3734281 ],\n",
       "        [419.17258976],\n",
       "        [328.04811372],\n",
       "        [218.69874248],\n",
       "        [273.3734281 ],\n",
       "        [227.81119009],\n",
       "        [145.79916165],\n",
       "        [145.79916165],\n",
       "        [291.59832331],\n",
       "        [592.30909422],\n",
       "        [318.93566612],\n",
       "        [309.82321852],\n",
       "        [765.44559869],\n",
       "        [182.24895207],\n",
       "        [719.88336067],\n",
       "        [145.79916165],\n",
       "        [154.91160926]]])"
      ]
     },
     "execution_count": 59,
     "metadata": {},
     "output_type": "execute_result"
    }
   ],
   "source": [
    "x_train[0].reshape(1, 25,1)"
   ]
  },
  {
   "cell_type": "code",
   "execution_count": 68,
   "metadata": {},
   "outputs": [],
   "source": [
    "from keras.models import Sequential\n",
    "from keras.layers import Conv1D,GlobalMaxPooling1D, Dense, Dropout, Activation\n",
    "\n",
    "# create model\n",
    "model = Sequential()\n",
    "model.add(Conv1D(1, 3, input_shape=(25, 1)))\n",
    "\n",
    "model.add(GlobalMaxPooling1D())\n",
    "model.add(Dense(250))\n",
    "model.add(Dropout(0.2))\n",
    "model.add(Activation('relu'))\n",
    "model.add(Dense(1))\n",
    "model.add(Activation('sigmoid'))\n",
    "model.compile(loss='binary_crossentropy',\n",
    "              optimizer='adam',\n",
    "              metrics=['accuracy'])"
   ]
  },
  {
   "cell_type": "code",
   "execution_count": 69,
   "metadata": {},
   "outputs": [
    {
     "name": "stdout",
     "output_type": "stream",
     "text": [
      "Model: \"sequential_16\"\n",
      "_________________________________________________________________\n",
      "Layer (type)                 Output Shape              Param #   \n",
      "=================================================================\n",
      "conv1d_14 (Conv1D)           (None, 23, 1)             4         \n",
      "_________________________________________________________________\n",
      "global_max_pooling1d_12 (Glo (None, 1)                 0         \n",
      "_________________________________________________________________\n",
      "dense_15 (Dense)             (None, 250)               500       \n",
      "_________________________________________________________________\n",
      "dropout_9 (Dropout)          (None, 250)               0         \n",
      "_________________________________________________________________\n",
      "activation_15 (Activation)   (None, 250)               0         \n",
      "_________________________________________________________________\n",
      "dense_16 (Dense)             (None, 1)                 251       \n",
      "_________________________________________________________________\n",
      "activation_16 (Activation)   (None, 1)                 0         \n",
      "=================================================================\n",
      "Total params: 755\n",
      "Trainable params: 755\n",
      "Non-trainable params: 0\n",
      "_________________________________________________________________\n"
     ]
    }
   ],
   "source": [
    "model.summary()"
   ]
  },
  {
   "cell_type": "code",
   "execution_count": 88,
   "metadata": {},
   "outputs": [
    {
     "name": "stdout",
     "output_type": "stream",
     "text": [
      "Train on 407 samples, validate on 302094 samples\n",
      "Epoch 1/2\n",
      "407/407 [==============================] - 10s 25ms/step - loss: 3.4902 - accuracy: 0.5528 - val_loss: 1.8984 - val_accuracy: 0.5693\n",
      "Epoch 2/2\n",
      "407/407 [==============================] - 10s 24ms/step - loss: 3.4861 - accuracy: 0.4963 - val_loss: 2.3076 - val_accuracy: 0.5693\n"
     ]
    },
    {
     "data": {
      "text/plain": [
       "<keras.callbacks.callbacks.History at 0x14ec2e610>"
      ]
     },
     "execution_count": 88,
     "metadata": {},
     "output_type": "execute_result"
    }
   ],
   "source": [
    "batch_size = 40\n",
    "epochs = 2\n",
    "model.fit(x_train, y_train,\n",
    "          batch_size=batch_size,\n",
    "          epochs=epochs,\n",
    "          validation_data=(x_test, y_test))"
   ]
  },
  {
   "cell_type": "code",
   "execution_count": 92,
   "metadata": {},
   "outputs": [],
   "source": [
    "hist = model.history"
   ]
  },
  {
   "cell_type": "code",
   "execution_count": 93,
   "metadata": {},
   "outputs": [
    {
     "data": {
      "text/plain": [
       "keras.callbacks.callbacks.History"
      ]
     },
     "execution_count": 93,
     "metadata": {},
     "output_type": "execute_result"
    }
   ],
   "source": [
    "type(hist)"
   ]
  },
  {
   "cell_type": "code",
   "execution_count": 95,
   "metadata": {},
   "outputs": [
    {
     "data": {
      "text/plain": [
       "{'val_loss': [1.898431442119725, 2.3075961628448156],\n",
       " 'val_accuracy': [0.5692930221557617, 0.5692930221557617],\n",
       " 'loss': [3.4902106163249846, 3.4861147597029403],\n",
       " 'accuracy': [0.55282557, 0.4963145]}"
      ]
     },
     "execution_count": 95,
     "metadata": {},
     "output_type": "execute_result"
    }
   ],
   "source": [
    "hist.history"
   ]
  },
  {
   "cell_type": "code",
   "execution_count": 80,
   "metadata": {},
   "outputs": [],
   "source": [
    "import matplotlib.pyplot as plt\n",
    "WIDTH = 30\n",
    "def print_loss_graphs(history):\n",
    "    ''' Prints the information related to loss\n",
    "    Parameters:\n",
    "        history (dictionary): the model's history dictionary (accessed by .history from the fit)\n",
    "    Return:\n",
    "        loaded_model (model): the loaded model\n",
    "    '''\n",
    "    title_string = \" Loss graphs \"\n",
    "    print(title_string.center(WIDTH, '-'))\n",
    "    plt.figure(figsize=[8,6])\n",
    "    plt.plot(history['loss'],'r',linewidth=3.0)\n",
    "    plt.plot(history['val_loss'],'b',linewidth=3.0)\n",
    "    plt.legend(['Training loss', 'Validation Loss'],fontsize=18)\n",
    "    plt.xlabel('Epochs ',fontsize=16)\n",
    "    plt.ylabel('Loss',fontsize=16)\n",
    "    plt.title('Loss Curves',fontsize=16)\n",
    "    plt.show()\n",
    "\n",
    "    # Plot training & validation accuracy values\n",
    "    title_string = \" Accuracy graphs \"\n",
    "    print(title_string.center(WIDTH, '-'))\n",
    "    plt.plot(history['accuracy'])\n",
    "    plt.plot(history['val_accuracy'])\n",
    "    plt.title('Model accuracy')\n",
    "    plt.ylabel('Accuracy')\n",
    "    plt.xlabel('Epoch')\n",
    "    plt.legend(['Train', 'Test'], loc='upper left')\n",
    "    plt.show()"
   ]
  },
  {
   "cell_type": "code",
   "execution_count": 96,
   "metadata": {
    "scrolled": true
   },
   "outputs": [
    {
     "name": "stdout",
     "output_type": "stream",
     "text": [
      "-------- Loss graphs ---------\n"
     ]
    },
    {
     "data": {
      "image/png": "[encoded data removed]",
      "text/plain": [
       "<Figure size 576x432 with 1 Axes>"
      ]
     },
     "metadata": {
      "needs_background": "light"
     },
     "output_type": "display_data"
    },
    {
     "name": "stdout",
     "output_type": "stream",
     "text": [
      "------ Accuracy graphs -------\n"
     ]
    },
    {
     "data": {
      "image/png": "[encoded data removed]",
      "text/plain": [
       "<Figure size 432x288 with 1 Axes>"
      ]
     },
     "metadata": {
      "needs_background": "light"
     },
     "output_type": "display_data"
    }
   ],
   "source": [
    "print_loss_graphs(hist.history)"
   ]
  },
  {
   "cell_type": "code",
   "execution_count": 85,
   "metadata": {},
   "outputs": [],
   "source": [
    "score = model.evaluate(x_test, y_test, verbose=0)\n"
   ]
  },
  {
   "cell_type": "code",
   "execution_count": 86,
   "metadata": {},
   "outputs": [
    {
     "data": {
      "text/plain": [
       "[4.185404138322212, 0.5692930221557617]"
      ]
     },
     "execution_count": 86,
     "metadata": {},
     "output_type": "execute_result"
    }
   ],
   "source": [
    "score"
   ]
  },
  {
   "cell_type": "code",
   "execution_count": null,
   "metadata": {},
   "outputs": [],
   "source": []
  }
 ],
 "metadata": {
  "kernelspec": {
   "display_name": "Python 3",
   "language": "python",
   "name": "python3"
  },
  "language_info": {
   "codemirror_mode": {
    "name": "ipython",
    "version": 3
   },
   "file_extension": ".py",
   "mimetype": "text/x-python",
   "name": "python",
   "nbconvert_exporter": "python",
   "pygments_lexer": "ipython3",
   "version": "3.6.2"
  }
 },
 "nbformat": 4,
 "nbformat_minor": 4
}
