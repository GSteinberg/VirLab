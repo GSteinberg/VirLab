{
 "cells": [
  {
   "cell_type": "markdown",
   "metadata": {},
   "source": [
    "Random DNA sample from https://www.bioinformatics.org/sms2/random_dna.html\n",
    "\n",
    "Following tutorial on https://www.kaggle.com/thomasnelson/working-with-dna-sequence-data-for-ml/data\n",
    "\n",
    "Bio Python help from https://biopython.org/wiki/SeqRecord"
   ]
  },
  {
   "cell_type": "markdown",
   "metadata": {},
   "source": [
    "Questions\n",
    "\n",
    "- One-hot vs. ordinal encoding -> no diff?\n",
    "- Kmer counts = ideal because the lengths become the same\n",
    "- Why are the genomes different lengths?\n",
    "- How do you analyze the classifer? \n",
    "    - Which sequences are wrong or not, should you pass them in with labels? (the sequence id)"
   ]
  },
  {
   "cell_type": "markdown",
   "metadata": {},
   "source": [
    "The following code will use a classifier to classify a genome as belonging to aedes or culex. It will use 100 samples from each."
   ]
  },
  {
   "cell_type": "code",
   "execution_count": 42,
   "metadata": {},
   "outputs": [
    {
     "data": {
      "text/plain": [
       "array(['0', '0', '0', '0', '0', '0', '0', '0', '0', '0', '0', '0', '0',\n",
       "       '0', '0', '0', '0', '0', '0', '0', '0', '0', '0', '0', '0', '0',\n",
       "       '0', '0', '0', '0', '0', '0', '0', '0', '0', '0', '0', '0', '0',\n",
       "       '0', '0', '0', '0', '0', '0', '0', '0', '0', '0', '0', '0', '0',\n",
       "       '0', '0', '0', '0', '0', '0', '0', '0', '0', '0', '0', '0', '0',\n",
       "       '0', '0', '0', '0', '0', '0', '0', '0', '0', '0', '0', '0', '0',\n",
       "       '0', '0', '0', '0', '0', '0', '0', '0', '0', '0', '0', '0', '0',\n",
       "       '0', '0', '0', '0', '0', '0', '0', '0', '0', '0', '0', '0', '0',\n",
       "       '0', '0', '0', '0', '0', '0', '0', '0', '0', '0', '0', '0', '0',\n",
       "       '0', '0', '0', '0', '0', '0', '0', '0', '0', '0', '0', '0', '0',\n",
       "       '0', '0', '0', '0', '0', '0', '0', '0', '0', '0', '0', '0', '0',\n",
       "       '0', '0', '0', '0', '0', '0', '0', '0', '0', '0', '0', '0', '0',\n",
       "       '0', '0', '0', '0', '0', '0', '0', '0', '0', '0', '0', '0', '0',\n",
       "       '0', '0', '0', '0', '0', '0', '0', '0', '0', '0', '0', '0', '0',\n",
       "       '0', '0', '0', '0', '0', '0', '0', '0', '0', '0', '0', '0', '0',\n",
       "       '0', '0', '0', '0', '0', '0', '0', '0', '0', '0', '0', '0', '0',\n",
       "       '0', '0', '0', '0', '0', '0', '0', '0', '0', '0', '0', '0', '0',\n",
       "       '0', '0', '0', '0', '0', '0', '0', '0', '0', '0', '0', '0', '0',\n",
       "       '0', '0', '0', '0', '0', '0', '0', '0', '0', '0', '0', '0', '0',\n",
       "       '0', '0', '0', '0', '0', '0', '0', '0', '0', '0', '0', '0', '0',\n",
       "       '0', '0', '0', '0', '0', '0', '0', '0', '0', '0', '0', '0', '0',\n",
       "       '0', '0', '0', '0', '0', '0', '0', '0', '0', '0', '0', '0', '0',\n",
       "       '0', '0', '0', '0', '0', '0', '0', '0', '0', '0', '0', '0', '0',\n",
       "       '0', '0', '0', '0', '0', '0', '0', '0', '0', '0', '0', '0', '0',\n",
       "       '0', '0', '0', '0', '0', '0', '0', '0', '0', '0', '0', '0', '1',\n",
       "       '1', '1', '1', '1', '1', '1', '1', '1', '1', '1', '1', '1', '1',\n",
       "       '1', '1', '1', '1', '1', '1', '1', '1', '1', '1', '1', '1', '1',\n",
       "       '1', '1', '1', '1', '1', '1', '1', '1', '1', '1', '1', '1', '1',\n",
       "       '1', '1', '1', '1', '1', '1', '1', '1', '1', '1', '1', '1', '1',\n",
       "       '1', '1', '1', '1', '1', '1', '1', '1', '1', '1', '1', '1', '1',\n",
       "       '1', '1', '1', '1', '1', '1', '1', '1', '1', '1', '1', '1', '1',\n",
       "       '1', '1', '1', '1', '1', '1', '1', '1', '1', '1', '1', '1', '1',\n",
       "       '1', '1', '1', '1', '1', '1', '1', '1', '1', '1', '1', '1', '1',\n",
       "       '1', '1', '1', '1', '1', '1', '1', '1', '1', '1', '1', '1', '1',\n",
       "       '1', '1', '1', '1', '1', '1', '1', '1', '1', '1', '1', '1', '1',\n",
       "       '1', '1', '1', '1', '1', '1', '1', '1', '1', '1', '1', '1', '1',\n",
       "       '1', '1', '1', '1', '1', '1', '1', '1', '1', '1', '1', '1', '1',\n",
       "       '1', '1', '1', '1', '1', '1', '1', '1', '1', '1', '1', '1', '1',\n",
       "       '1', '1', '1', '1', '1', '1', '1', '1', '1', '1', '1', '1', '1',\n",
       "       '1', '1', '1', '1', '1', '1', '1', '1', '1', '1', '1', '1', '1',\n",
       "       '1', '1', '1', '1', '1', '1', '1', '1', '1', '1', '1', '1', '1',\n",
       "       '1', '1', '1', '1', '1', '1', '1', '1', '1', '1', '1', '1', '1',\n",
       "       '1', '1', '1', '1', '1', '1', '1', '1', '1', '1', '1', '1', '1',\n",
       "       '1', '1', '1', '1', '1', '1', '1', '1', '1', '1', '1', '1', '1',\n",
       "       '1', '1', '1', '1', '1', '1', '1', '1', '1', '1', '1', '1', '1',\n",
       "       '1', '1', '1', '1', '1', '1', '1', '1', '1', '1', '1', '1', '1',\n",
       "       '1', '1', '1', '1', '1', '1', '1', '1', '1', '1', '1', '1', '1',\n",
       "       '1', '1', '1', '1', '1', '1', '1', '1', '1', '1', '1', '1', '1',\n",
       "       '1', '1', '1', '1', '1', '1', '1', '1', '1', '1', '1', '1', '1',\n",
       "       '1', '1', '1', '1', '1', '1', '1', '1', '1', '1', '1'],\n",
       "      dtype=object)"
      ]
     },
     "execution_count": 42,
     "metadata": {},
     "output_type": "execute_result"
    }
   ],
   "source": [
    "import pandas as pd\n",
    "from sklearn.feature_extraction.text import CountVectorizer\n",
    "from Bio import SeqIO # FASTA reader\n",
    "import numpy as np \n",
    "\n",
    "aedes_paths = [\"/Users/alevenberg/Documents/research/VirLab/genomes/Full_Aedes/Dengue_virus.fasta\", \"/Users/alevenberg/Documents/research/VirLab/genomes/Full_Aedes/Yellow_fever_virus.fasta\", \"/Users/alevenberg/Documents/research/VirLab/genomes/Full_Aedes/Zika_virus.fasta\"]\n",
    "culex_paths = [\"/Users/alevenberg/Documents/research/VirLab/genomes/Full_Culex/Japanese_encephalitis_virus.fasta\", \"/Users/alevenberg/Documents/research/VirLab/genomes/Full_Culex/Tembusu_virus.fasta\", \"/Users/alevenberg/Documents/research/VirLab/genomes/Full_Culex/Usutu_virus.fasta\", \"/Users/alevenberg/Documents/research/VirLab/genomes/Full_Culex/West_nile_virus.fasta\"]\n",
    "\n",
    "aedes_path = aedes_paths[0]\n",
    "culex_path = culex_paths[0]\n",
    "\n",
    "# Transform sequences from files into an array\n",
    "# For aedes \n",
    "aedes_sequences = []\n",
    "for seq_record in SeqIO.parse(aedes_path, \"fasta\"):\n",
    "    aedes_sequences.append(str(seq_record.seq))\n",
    "    \n",
    "# For culex\n",
    "culex_sequences = []\n",
    "for seq_record in SeqIO.parse(culex_path, \"fasta\"):\n",
    "    culex_sequences.append(str(seq_record.seq))\n",
    "\n",
    "# Pick the file with less sequences and trim the other one based on that\n",
    "if(len(culex_sequences) > len(aedes_sequences)):\n",
    "    culex_sequences = culex_sequences[0:len(aedes_sequences)]\n",
    "elif(len(aedes_sequences) > len(culex_sequences)):\n",
    "    aedes_sequences = aedes_sequences[0:len(culex_sequences)]\n",
    "\n",
    "# Create labels\n",
    "# Aedes - 0 \n",
    "# Culex - 1\n",
    "sequence_length = len(aedes_sequences)\n",
    "aedes_classes = np.full(shape=sequence_length,fill_value=0)\n",
    "culex_classes = np.full(shape=sequence_length,fill_value=1)\n",
    "\n",
    "# Make dataframes\n",
    "aedes_data = np.array(list(zip(aedes_sequences,aedes_classes)))\n",
    "df_aedes = pd.DataFrame(data=aedes_data)\n",
    "df_aedes.columns = [\"sequence\",\"class\"]\n",
    "\n",
    "culex_data = np.array(list(zip(culex_sequences,culex_classes)))\n",
    "df_culex = pd.DataFrame(data=culex_data)\n",
    "df_culex.columns = [\"sequence\",\"class\"]\n",
    "\n",
    "# Shape of both is (324, 2)\n",
    "\n",
    "# Combine frames\n",
    "frames = [df_aedes, df_culex]\n",
    "full_df = df_aedes.append(df_culex)\n",
    "\n",
    "\n",
    "# Transform into kmer counts \n",
    "KMERS = 3\n",
    "\n",
    "def getKmersStr(sequence, size=KMERS):\n",
    "    kmers = [sequence[x:x+size].lower() for x in range(len(sequence) - size + 1)]\n",
    "    return \" \".join(kmers)\n",
    "\n",
    "full_df['words'] = full_df.apply(lambda x: getKmersStr(x['sequence']), axis=1)\n",
    "full_df = full_df.drop('sequence', axis=1)\n",
    "labels = full_df.iloc[:, 0].values     \n",
    "labels\n",
    "\n",
    "from sklearn.feature_extraction.text import CountVectorizer\n",
    "cv = CountVectorizer()\n",
    "X = cv.fit_transform(human_texts)\n",
    "aedes_kmers = cv.fit_transform(aedes_sequences).toarray() # Holds the kmers and their counts\n",
    "\n"
   ]
  },
  {
   "cell_type": "code",
   "execution_count": 39,
   "metadata": {},
   "outputs": [
    {
     "data": {
      "text/html": [
       "<div>\n",
       "<style scoped>\n",
       "    .dataframe tbody tr th:only-of-type {\n",
       "        vertical-align: middle;\n",
       "    }\n",
       "\n",
       "    .dataframe tbody tr th {\n",
       "        vertical-align: top;\n",
       "    }\n",
       "\n",
       "    .dataframe thead th {\n",
       "        text-align: right;\n",
       "    }\n",
       "</style>\n",
       "<table border=\"1\" class=\"dataframe\">\n",
       "  <thead>\n",
       "    <tr style=\"text-align: right;\">\n",
       "      <th></th>\n",
       "      <th>sequence</th>\n",
       "      <th>class</th>\n",
       "    </tr>\n",
       "  </thead>\n",
       "  <tbody>\n",
       "    <tr>\n",
       "      <th>0</th>\n",
       "      <td>cta ta  a t  ta taa aa  a a  aa aac ac  c a  a...</td>\n",
       "      <td>0</td>\n",
       "    </tr>\n",
       "    <tr>\n",
       "      <th>1</th>\n",
       "      <td>cta ta  a t  ta taa aa  a a  aa aac ac  c a  a...</td>\n",
       "      <td>0</td>\n",
       "    </tr>\n",
       "    <tr>\n",
       "      <th>2</th>\n",
       "      <td>agt gt  t g  gt gtt tt  t t  tt ttg tg  g t  t...</td>\n",
       "      <td>0</td>\n",
       "    </tr>\n",
       "    <tr>\n",
       "      <th>3</th>\n",
       "      <td>agt gt  t g  gt gtt tt  t t  tt ttg tg  g t  t...</td>\n",
       "      <td>0</td>\n",
       "    </tr>\n",
       "    <tr>\n",
       "      <th>4</th>\n",
       "      <td>atg tg  g t  tg tga ga  a g  ga gaa aa  a a  a...</td>\n",
       "      <td>0</td>\n",
       "    </tr>\n",
       "    <tr>\n",
       "      <th>...</th>\n",
       "      <td>...</td>\n",
       "      <td>...</td>\n",
       "    </tr>\n",
       "    <tr>\n",
       "      <th>319</th>\n",
       "      <td>AGAAGTTTATCTGTGTGAACTTCTTGGCTTAGTATCGTTGAGAAGA...</td>\n",
       "      <td>1</td>\n",
       "    </tr>\n",
       "    <tr>\n",
       "      <th>320</th>\n",
       "      <td>AGAAGTTTATCTGTGTGAACTTCTTGGCTTAGTATCGTTGAGAAGA...</td>\n",
       "      <td>1</td>\n",
       "    </tr>\n",
       "    <tr>\n",
       "      <th>321</th>\n",
       "      <td>AGAAGTTTATCTGTGTGAACTTCTTGGCTTAGTATCGTTGAGAAGA...</td>\n",
       "      <td>1</td>\n",
       "    </tr>\n",
       "    <tr>\n",
       "      <th>322</th>\n",
       "      <td>AGAAGTTTATCTGTGTGAACTTCTTGGCTTAGTATCGTTGAGAAGA...</td>\n",
       "      <td>1</td>\n",
       "    </tr>\n",
       "    <tr>\n",
       "      <th>323</th>\n",
       "      <td>AGAAGTTTATCTGTGTGGACTTCTTGGCTTAGTATCGTTGAGAAGA...</td>\n",
       "      <td>1</td>\n",
       "    </tr>\n",
       "  </tbody>\n",
       "</table>\n",
       "<p>648 rows × 2 columns</p>\n",
       "</div>"
      ],
      "text/plain": [
       "                                              sequence class\n",
       "0    cta ta  a t  ta taa aa  a a  aa aac ac  c a  a...     0\n",
       "1    cta ta  a t  ta taa aa  a a  aa aac ac  c a  a...     0\n",
       "2    agt gt  t g  gt gtt tt  t t  tt ttg tg  g t  t...     0\n",
       "3    agt gt  t g  gt gtt tt  t t  tt ttg tg  g t  t...     0\n",
       "4    atg tg  g t  tg tga ga  a g  ga gaa aa  a a  a...     0\n",
       "..                                                 ...   ...\n",
       "319  AGAAGTTTATCTGTGTGAACTTCTTGGCTTAGTATCGTTGAGAAGA...     1\n",
       "320  AGAAGTTTATCTGTGTGAACTTCTTGGCTTAGTATCGTTGAGAAGA...     1\n",
       "321  AGAAGTTTATCTGTGTGAACTTCTTGGCTTAGTATCGTTGAGAAGA...     1\n",
       "322  AGAAGTTTATCTGTGTGAACTTCTTGGCTTAGTATCGTTGAGAAGA...     1\n",
       "323  AGAAGTTTATCTGTGTGGACTTCTTGGCTTAGTATCGTTGAGAAGA...     1\n",
       "\n",
       "[648 rows x 2 columns]"
      ]
     },
     "execution_count": 39,
     "metadata": {},
     "output_type": "execute_result"
    }
   ],
   "source": [
    "\n",
    "\n",
    "\n",
    "# Check that is the same as the cartesian\n",
    "from itertools import product\n",
    "\n",
    "# Get all combinations of [a, c, g, t] and length of KMER\n",
    "comb = product(['a','c','g','t'],repeat=KMERS) \n",
    "  \n",
    "cart = []\n",
    "# Print the obtained combinations \n",
    "for i in list(comb): \n",
    "    cart.append(\"\".join(i))\n",
    "    \n",
    "# For aedes\n",
    "aedes_sequences = list(map(getKmersStr, aedes_sequences))\n",
    "\n",
    "cv = CountVectorizer()\n",
    "aedes_kmers = cv.fit_transform(aedes_sequences).toarray() # Holds the kmers and their counts\n",
    "tokens = cv.get_feature_names()\n",
    "df_aedes = pd.DataFrame(data=aedes_kmers, columns=tokens)\n",
    "df_aedes = df_aedes.loc[:, df_aedes.isin([' ','NULL',0]).mean() < .95] # Removes columns without kmers -> specifically ones that are not made of the correct bases: a,c,g,t\n",
    "# Might need to change how to remove it\n",
    "\n",
    "# Delete columns without a/c/g/t\n",
    "droplist = [i for i in df_aedes.columns if any(c not in 'acgt' for c in i)]\n",
    "df_aedes.drop(droplist,axis=1,inplace=True)\n",
    "\n",
    "assert(len(df_aedes.columns) == len(cart)) # Make sure all possible KMERS exist\n",
    "\n",
    "# For culex\n",
    "\n",
    "aedes_sequences = list(map(getKmersStr, aedes_sequences))\n",
    "\n",
    "cv = CountVectorizer()\n",
    "culex_kmers = cv.fit_transform(culex_sequences).toarray() # Holds the kmers and their counts\n",
    "tokens = cv.get_feature_names()\n",
    "df_culex = pd.DataFrame(data=culex_kmers, columns=tokens)\n",
    "df_culex = df_culex.loc[:, df_culex.isin([' ','NULL',0]).mean() < .95] # Removes columns without kmers -> specifically ones that are not made of the correct bases: a,c,g,t\n",
    "# Might need to change how to remove it\n",
    "\n",
    "# Delete columns without a/c/g/t\n",
    "droplist = [i for i in df_culex.columns if any(c not in 'acgt' for c in i)]\n",
    "df_culex.drop(droplist,axis=1,inplace=True)\n",
    "\n",
    "assert(len(df_aedes.columns) == len(cart)) # Make sure all possible KMERS exist\n"
   ]
  },
  {
   "cell_type": "code",
   "execution_count": null,
   "metadata": {},
   "outputs": [],
   "source": [
    "KMERS =3\n",
    "\n",
    "def getKmers(sequence, size):\n",
    "    return [sequence[x:x+size].lower() for x in range(len(sequence) - size + 1)]\n",
    "\n",
    "def getKmersStr(sequence, size):\n",
    "    kmers = getKmers(sequence, size)\n",
    "    return \" \".join(kmers)\n",
    "\n",
    "# Aedes is a vector\n",
    "# Each vectors dna sample has the same # of kmers??\n",
    "cv = CountVectorizer()\n",
    "\n",
    "for path in paths:\n",
    "    sequences = []\n",
    "    ids = []\n",
    "    for index, seq_record in enumerate(SeqIO.parse(path, \"fasta\")):\n",
    "        sequences.append(getKmersStr(str(seq_record.seq), size=KMERS))\n",
    "        ids.append(seq_record.id)\n",
    "    \n",
    "    X = cv.fit_transform(sequences).toarray() # holds the kmers and their counts\n",
    "    tokens = cv.get_feature_names()\n",
    "    df = pd.DataFrame(data=X, index=ids, columns=tokens)\n",
    "    print(df.loc[:, (df != 0).any(axis=0)])\n",
    "    print(\"Finished path {}\".format(path))\n",
    "    \n",
    "    import pandas as pd\n",
    "from sklearn.feature_extraction.text import CountVectorizer\n",
    "from Bio import SeqIO # FASTA reader\n",
    "\n",
    "path = \"/Users/alevenberg/Documents/research/VirLab/genomes/Full_Aedes/Dengue_virus.fasta\"\n",
    "\n",
    "\n",
    "\n",
    "# Aedes is a vector\n",
    "# Each vectors dna sample has the same # of kmers??\n",
    "\n",
    "sequences = []\n",
    "ids = []\n",
    "for index, seq_record in enumerate(SeqIO.parse(path, \"fasta\")):\n",
    "    if (\"aab\" in str(seq_record.seq)):\n",
    "        print(seq_record.id)\n",
    "    sequences.append(getKmersStr(str(seq_record.seq), size=KMERS))\n",
    "    ids.append(seq_record.id)\n",
    "\n",
    "print(\"Finished path {}\".format(path))"
   ]
  },
  {
   "cell_type": "code",
   "execution_count": null,
   "metadata": {},
   "outputs": [],
   "source": [
    "df = df.loc[:, (df != 0).any(axis=0)]\n",
    "print(df)\n",
    "\n",
    "\n",
    "df = df.loc[:, df.isin([' ','NULL',0]).mean() < 1]\n",
    "print (df)\n",
    "# iterating the columns \n",
    "for col in df.columns: \n",
    "    print(col)"
   ]
  },
  {
   "cell_type": "code",
   "execution_count": null,
   "metadata": {},
   "outputs": [],
   "source": [
    "def toString(List): \n",
    "    return ''.join(List) \n",
    "  \n",
    "# Function to print permutations of string \n",
    "# This function takes three parameters: \n",
    "# 1. String \n",
    "# 2. Starting index of the string \n",
    "# 3. Ending index of the string. \n",
    "def permute(a, l, r): \n",
    "    if l==r: \n",
    "        print (toString(a) )\n",
    "    else: \n",
    "        for i in range(l,r+1): \n",
    "            a[l], a[i] = a[i], a[l] \n",
    "            permute(a, l+1, r) \n",
    "            a[l], a[i] = a[i], a[l] # backtrack \n",
    "  \n",
    "# Driver program to test the above function \n",
    "string = \"acgt\"\n",
    "n = len(string) \n",
    "a = list(string) \n",
    "permute(a, 0, n-1) \n",
    "  "
   ]
  },
  {
   "cell_type": "code",
   "execution_count": null,
   "metadata": {},
   "outputs": [],
   "source": []
  },
  {
   "cell_type": "code",
   "execution_count": null,
   "metadata": {},
   "outputs": [],
   "source": [
    "cols = []\n",
    "for col in df.columns: \n",
    "    print(col)\n",
    "    cols.append(col)"
   ]
  },
  {
   "cell_type": "code",
   "execution_count": null,
   "metadata": {},
   "outputs": [],
   "source": [
    "cols == cart # all possible combinations are shown which is good\n",
    "# if there was a kmer which was not found it might have accidentally been dropped earlier!"
   ]
  },
  {
   "cell_type": "code",
   "execution_count": null,
   "metadata": {},
   "outputs": [],
   "source": [
    "print (df)"
   ]
  },
  {
   "cell_type": "code",
   "execution_count": null,
   "metadata": {},
   "outputs": [],
   "source": [
    "df.value_counts().sort_index().plot.bar()\n"
   ]
  },
  {
   "cell_type": "markdown",
   "metadata": {},
   "source": [
    "***************"
   ]
  },
  {
   "cell_type": "code",
   "execution_count": 39,
   "metadata": {},
   "outputs": [],
   "source": [
    "import pandas as pd\n",
    "from sklearn.feature_extraction.text import CountVectorizer\n",
    "from Bio import SeqIO # FASTA reader\n",
    "import numpy as np\n",
    "\n",
    "path = \"/Users/alevenberg/Documents/research/VirLab/genomes/Full_Aedes/Dengue_virus.fasta\"\n",
    "\n"
   ]
  },
  {
   "cell_type": "code",
   "execution_count": 42,
   "metadata": {},
   "outputs": [
    {
     "name": "stdout",
     "output_type": "stream",
     "text": [
      "5446\n",
      "5446\n"
     ]
    }
   ],
   "source": [
    "sequences\n",
    "classes = np.full(shape=len(sequences),fill_value=0)\n"
   ]
  },
  {
   "cell_type": "code",
   "execution_count": 37,
   "metadata": {},
   "outputs": [
    {
     "data": {
      "text/plain": [
       "array([[ 1,  6],\n",
       "       [ 2,  7],\n",
       "       [ 3,  8],\n",
       "       [ 4,  9],\n",
       "       [ 5, 10]])"
      ]
     },
     "execution_count": 37,
     "metadata": {},
     "output_type": "execute_result"
    }
   ],
   "source": [
    "a = np.array([1,2,3,4,5])\n",
    "b = np.array([6,7,8,9,10])\n",
    "np.array(list(zip(a,b)))\n"
   ]
  },
  {
   "cell_type": "code",
   "execution_count": 41,
   "metadata": {},
   "outputs": [
    {
     "data": {
      "text/html": [
       "<div>\n",
       "<style scoped>\n",
       "    .dataframe tbody tr th:only-of-type {\n",
       "        vertical-align: middle;\n",
       "    }\n",
       "\n",
       "    .dataframe tbody tr th {\n",
       "        vertical-align: top;\n",
       "    }\n",
       "\n",
       "    .dataframe thead th {\n",
       "        text-align: right;\n",
       "    }\n",
       "</style>\n",
       "<table border=\"1\" class=\"dataframe\">\n",
       "  <thead>\n",
       "    <tr style=\"text-align: right;\">\n",
       "      <th></th>\n",
       "      <th>sequence</th>\n",
       "      <th>class</th>\n",
       "    </tr>\n",
       "  </thead>\n",
       "  <tbody>\n",
       "    <tr>\n",
       "      <th>0</th>\n",
       "      <td>CTAACAGTTTTTTATTAGAGAGCAGATCTCTGATGAACAACCAACG...</td>\n",
       "      <td>0</td>\n",
       "    </tr>\n",
       "    <tr>\n",
       "      <th>1</th>\n",
       "      <td>CTAACAGTTTTTTATTAGAGAGCAGATCTCTGATGAACAACCAACG...</td>\n",
       "      <td>0</td>\n",
       "    </tr>\n",
       "    <tr>\n",
       "      <th>2</th>\n",
       "      <td>AGTTGTTAGTCTACGTGGACCGACAAGAACAGTTTCGAATCGGAAG...</td>\n",
       "      <td>0</td>\n",
       "    </tr>\n",
       "    <tr>\n",
       "      <th>3</th>\n",
       "      <td>AGTTGTTAGTCTACGTGGACCGACAAGAACAGTTTCGACTCGGAAG...</td>\n",
       "      <td>0</td>\n",
       "    </tr>\n",
       "    <tr>\n",
       "      <th>4</th>\n",
       "      <td>ATGAATAACCAACGAAAAAAGGCGAGAAATACGCCTTTCAATATGC...</td>\n",
       "      <td>0</td>\n",
       "    </tr>\n",
       "  </tbody>\n",
       "</table>\n",
       "</div>"
      ],
      "text/plain": [
       "                                            sequence class\n",
       "0  CTAACAGTTTTTTATTAGAGAGCAGATCTCTGATGAACAACCAACG...     0\n",
       "1  CTAACAGTTTTTTATTAGAGAGCAGATCTCTGATGAACAACCAACG...     0\n",
       "2  AGTTGTTAGTCTACGTGGACCGACAAGAACAGTTTCGAATCGGAAG...     0\n",
       "3  AGTTGTTAGTCTACGTGGACCGACAAGAACAGTTTCGACTCGGAAG...     0\n",
       "4  ATGAATAACCAACGAAAAAAGGCGAGAAATACGCCTTTCAATATGC...     0"
      ]
     },
     "execution_count": 41,
     "metadata": {},
     "output_type": "execute_result"
    }
   ],
   "source": [
    "numpy_data = np.array(list(zip(sequences,classes)))\n",
    "df_aedes = pd.DataFrame(data=numpy_data)\n",
    "df_aedes.columns = [\"sequence\",\"class\"]\n",
    "#({\"columns\":})\n",
    "df_aedes.head()"
   ]
  },
  {
   "cell_type": "code",
   "execution_count": 45,
   "metadata": {},
   "outputs": [],
   "source": [
    "import pandas as pd\n",
    "from sklearn.feature_extraction.text import CountVectorizer\n",
    "from Bio import SeqIO # FASTA reader\n",
    "import numpy as np\n",
    "\n",
    "path = \"/Users/alevenberg/Documents/research/VirLab/genomes/Full_Culex/Japanese_encephalitis_virus.fasta\"\n",
    "\n",
    "# Get Sequences\n",
    "sequences = []\n",
    "ids = []\n",
    "for index, seq_record in enumerate(SeqIO.parse(path, \"fasta\")):\n",
    "    sequences.append(str(seq_record.seq))\n",
    "    ids.append(seq_record.id)                 "
   ]
  },
  {
   "cell_type": "code",
   "execution_count": 46,
   "metadata": {},
   "outputs": [
    {
     "name": "stdout",
     "output_type": "stream",
     "text": [
      "324\n",
      "324\n"
     ]
    }
   ],
   "source": [
    "classes = np.full(shape=len(sequences),fill_value=1)\n",
    "print(len(classes))\n",
    "print(len(sequences))"
   ]
  },
  {
   "cell_type": "code",
   "execution_count": 47,
   "metadata": {},
   "outputs": [
    {
     "data": {
      "text/html": [
       "<div>\n",
       "<style scoped>\n",
       "    .dataframe tbody tr th:only-of-type {\n",
       "        vertical-align: middle;\n",
       "    }\n",
       "\n",
       "    .dataframe tbody tr th {\n",
       "        vertical-align: top;\n",
       "    }\n",
       "\n",
       "    .dataframe thead th {\n",
       "        text-align: right;\n",
       "    }\n",
       "</style>\n",
       "<table border=\"1\" class=\"dataframe\">\n",
       "  <thead>\n",
       "    <tr style=\"text-align: right;\">\n",
       "      <th></th>\n",
       "      <th>sequence</th>\n",
       "      <th>class</th>\n",
       "    </tr>\n",
       "  </thead>\n",
       "  <tbody>\n",
       "    <tr>\n",
       "      <th>0</th>\n",
       "      <td>AGAAGTTTATCTGTGTGGACTTCTTGGCTTAGTATCGTTGAGAAGA...</td>\n",
       "      <td>1</td>\n",
       "    </tr>\n",
       "    <tr>\n",
       "      <th>1</th>\n",
       "      <td>AGAAGTTTATCTGTGTGGACTTCTTGGCTTAGTATCGTTGAGAAGA...</td>\n",
       "      <td>1</td>\n",
       "    </tr>\n",
       "    <tr>\n",
       "      <th>2</th>\n",
       "      <td>AGAAGTTTATCTGTGTGAACTTCTTGGCTTAGTATCGTTGAGAAGA...</td>\n",
       "      <td>1</td>\n",
       "    </tr>\n",
       "    <tr>\n",
       "      <th>3</th>\n",
       "      <td>AGAAGTTTATCTGTGTGAACTTCTTGGCTTAGTATCGTTGAGAAGA...</td>\n",
       "      <td>1</td>\n",
       "    </tr>\n",
       "    <tr>\n",
       "      <th>4</th>\n",
       "      <td>AGAAGTTTATCTGTGTGAACTTCTTGGCTTAGTATCGTTGAGAAGA...</td>\n",
       "      <td>1</td>\n",
       "    </tr>\n",
       "  </tbody>\n",
       "</table>\n",
       "</div>"
      ],
      "text/plain": [
       "                                            sequence class\n",
       "0  AGAAGTTTATCTGTGTGGACTTCTTGGCTTAGTATCGTTGAGAAGA...     1\n",
       "1  AGAAGTTTATCTGTGTGGACTTCTTGGCTTAGTATCGTTGAGAAGA...     1\n",
       "2  AGAAGTTTATCTGTGTGAACTTCTTGGCTTAGTATCGTTGAGAAGA...     1\n",
       "3  AGAAGTTTATCTGTGTGAACTTCTTGGCTTAGTATCGTTGAGAAGA...     1\n",
       "4  AGAAGTTTATCTGTGTGAACTTCTTGGCTTAGTATCGTTGAGAAGA...     1"
      ]
     },
     "execution_count": 47,
     "metadata": {},
     "output_type": "execute_result"
    }
   ],
   "source": [
    "numpy_data = np.array(list(zip(sequences,classes)))\n",
    "df_culex = pd.DataFrame(data=numpy_data)\n",
    "df_culex.columns = [\"sequence\",\"class\"]\n",
    "#({\"columns\":})\n",
    "df_culex.head()"
   ]
  },
  {
   "cell_type": "code",
   "execution_count": 57,
   "metadata": {},
   "outputs": [],
   "source": [
    "frames = [df_aedes, df_culex]\n",
    "\n",
    "full_df = df_aedes.append(df_culex)\n"
   ]
  },
  {
   "cell_type": "code",
   "execution_count": 58,
   "metadata": {},
   "outputs": [
    {
     "data": {
      "text/plain": [
       "(5770, 2)"
      ]
     },
     "execution_count": 58,
     "metadata": {},
     "output_type": "execute_result"
    }
   ],
   "source": [
    "full_df.tail()\n",
    "full_df.shape"
   ]
  },
  {
   "cell_type": "code",
   "execution_count": 59,
   "metadata": {},
   "outputs": [
    {
     "data": {
      "text/html": [
       "<div>\n",
       "<style scoped>\n",
       "    .dataframe tbody tr th:only-of-type {\n",
       "        vertical-align: middle;\n",
       "    }\n",
       "\n",
       "    .dataframe tbody tr th {\n",
       "        vertical-align: top;\n",
       "    }\n",
       "\n",
       "    .dataframe thead th {\n",
       "        text-align: right;\n",
       "    }\n",
       "</style>\n",
       "<table border=\"1\" class=\"dataframe\">\n",
       "  <thead>\n",
       "    <tr style=\"text-align: right;\">\n",
       "      <th></th>\n",
       "      <th>sequence</th>\n",
       "      <th>class</th>\n",
       "    </tr>\n",
       "  </thead>\n",
       "  <tbody>\n",
       "    <tr>\n",
       "      <th>5441</th>\n",
       "      <td>AGTTGTTAGTCTACGTGGACCGACAAGAACAGTTTCGAATCGGAAG...</td>\n",
       "      <td>0</td>\n",
       "    </tr>\n",
       "    <tr>\n",
       "      <th>5442</th>\n",
       "      <td>AGTTGTTAGTCTACGTGGACCGACAAGAACAGTTTCGAATCGGAAG...</td>\n",
       "      <td>0</td>\n",
       "    </tr>\n",
       "    <tr>\n",
       "      <th>5443</th>\n",
       "      <td>AGTTGTTAGTCTACGTGGACCGACAAGAACAGTTTCGAATCGGAAG...</td>\n",
       "      <td>0</td>\n",
       "    </tr>\n",
       "    <tr>\n",
       "      <th>5444</th>\n",
       "      <td>AGTTGTTAGTCTACGTGGACCGACAAGAACAGTTTCGAATCGGAAG...</td>\n",
       "      <td>0</td>\n",
       "    </tr>\n",
       "    <tr>\n",
       "      <th>5445</th>\n",
       "      <td>GTGGACCGCAAAGAACAGTTTCGAATCGGAAGCTTGCTTAACGTAG...</td>\n",
       "      <td>0</td>\n",
       "    </tr>\n",
       "  </tbody>\n",
       "</table>\n",
       "</div>"
      ],
      "text/plain": [
       "                                               sequence class\n",
       "5441  AGTTGTTAGTCTACGTGGACCGACAAGAACAGTTTCGAATCGGAAG...     0\n",
       "5442  AGTTGTTAGTCTACGTGGACCGACAAGAACAGTTTCGAATCGGAAG...     0\n",
       "5443  AGTTGTTAGTCTACGTGGACCGACAAGAACAGTTTCGAATCGGAAG...     0\n",
       "5444  AGTTGTTAGTCTACGTGGACCGACAAGAACAGTTTCGAATCGGAAG...     0\n",
       "5445  GTGGACCGCAAAGAACAGTTTCGAATCGGAAGCTTGCTTAACGTAG...     0"
      ]
     },
     "execution_count": 59,
     "metadata": {},
     "output_type": "execute_result"
    }
   ],
   "source": [
    "df_aedes.tail()\n"
   ]
  },
  {
   "cell_type": "code",
   "execution_count": 1,
   "metadata": {},
   "outputs": [
    {
     "ename": "NameError",
     "evalue": "name 'df_aedes' is not defined",
     "output_type": "error",
     "traceback": [
      "\u001b[0;31m---------------------------------------------------------------------------\u001b[0m",
      "\u001b[0;31mNameError\u001b[0m                                 Traceback (most recent call last)",
      "\u001b[0;32m<ipython-input-1-5cf920b04a6d>\u001b[0m in \u001b[0;36m<module>\u001b[0;34m\u001b[0m\n\u001b[0;32m----> 1\u001b[0;31m \u001b[0mdf_aedes\u001b[0m\u001b[0;34m.\u001b[0m\u001b[0mshape\u001b[0m\u001b[0;34m\u001b[0m\u001b[0;34m\u001b[0m\u001b[0m\n\u001b[0m\u001b[1;32m      2\u001b[0m \u001b[0mdf_aedes\u001b[0m\u001b[0;34m.\u001b[0m\u001b[0mnew_shape\u001b[0m\u001b[0;34m(\u001b[0m\u001b[0;36m324\u001b[0m\u001b[0;34m,\u001b[0m\u001b[0;36m2\u001b[0m\u001b[0;34m)\u001b[0m\u001b[0;34m\u001b[0m\u001b[0;34m\u001b[0m\u001b[0m\n\u001b[1;32m      3\u001b[0m \u001b[0mdf_aedes\u001b[0m\u001b[0;34m.\u001b[0m\u001b[0mshape\u001b[0m\u001b[0;34m\u001b[0m\u001b[0;34m\u001b[0m\u001b[0m\n",
      "\u001b[0;31mNameError\u001b[0m: name 'df_aedes' is not defined"
     ]
    }
   ],
   "source": [
    "df_aedes.shape\n",
    "df_aedes.new_shape(324,2)\n",
    "df_aedes.shape"
   ]
  },
  {
   "cell_type": "code",
   "execution_count": 60,
   "metadata": {},
   "outputs": [
    {
     "data": {
      "text/plain": [
       "(324, 2)"
      ]
     },
     "execution_count": 60,
     "metadata": {},
     "output_type": "execute_result"
    }
   ],
   "source": [
    "df_culex.shape"
   ]
  },
  {
   "cell_type": "code",
   "execution_count": null,
   "metadata": {},
   "outputs": [],
   "source": [
    "                 \n",
    "\n",
    "KMERS = 3\n",
    "\n",
    "def getKmers(sequence, size):\n",
    "    return [sequence[x:x+size].lower() for x in range(len(sequence) - size + 1)]\n",
    "\n",
    "def getKmersStr(sequence, size):\n",
    "    kmers = getKmers(sequence, size)\n",
    "    return \" \".join(kmers)\n",
    "\n",
    "# Aedes is a vector\n",
    "# Each vectors dna sample has the same # of kmers??\n",
    "cv = CountVectorizer()\n",
    "\n",
    "\n",
    "\n",
    "X = cv.fit_transform(sequences).toarray() # holds the kmers and their counts\n",
    "tokens = cv.get_feature_names()\n",
    "df = pd.DataFrame(data=X, index=ids, columns=tokens)\n",
    "df = df.loc[:, (df != 0).any(axis=0)]\n",
    "\n",
    "\n",
    "print(\"Finished path {}\".format(path))"
   ]
  }
 ],
 "metadata": {
  "kernelspec": {
   "display_name": "Python 3",
   "language": "python",
   "name": "python3"
  },
  "language_info": {
   "codemirror_mode": {
    "name": "ipython",
    "version": 3
   },
   "file_extension": ".py",
   "mimetype": "text/x-python",
   "name": "python",
   "nbconvert_exporter": "python",
   "pygments_lexer": "ipython3",
   "version": "3.7.5"
  }
 },
 "nbformat": 4,
 "nbformat_minor": 2
}
